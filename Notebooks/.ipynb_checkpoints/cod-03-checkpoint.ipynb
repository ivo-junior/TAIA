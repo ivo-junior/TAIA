{
 "cells": [
  {
   "cell_type": "markdown",
   "id": "31591a54",
   "metadata": {},
   "source": [
    "# Análise de Sentimentos - Tweets"
   ]
  },
  {
   "cell_type": "code",
   "execution_count": 608,
   "id": "47886f38",
   "metadata": {},
   "outputs": [],
   "source": [
    "#Conjunto de importações\n",
    "from sklearn.model_selection import train_test_split\n",
    "from sklearn.feature_extraction.text import CountVectorizer\n",
    "from sklearn.naive_bayes import MultinomialNB\n",
    "from sklearn.metrics import accuracy_score\n",
    "from sklearn.metrics import confusion_matrix\n",
    "import numpy as np\n",
    "import pandas as pd"
   ]
  },
  {
   "cell_type": "code",
   "execution_count": 609,
   "id": "7912dc27",
   "metadata": {},
   "outputs": [],
   "source": [
    "#Armazenamento de documentos (frases) na lista dataset\n",
    "dataset = [(\"@luciogirotto: TERCEIRA RECLAMAÇAO bradesco alobradesco bancocentralbr BandNews datenaoficial ReclameAQUI http://t.co/v9SgaBB27A\"),\n",
    "           (\"@RadioRockPuro: @Nilson_de_Vix @claro um pior que outro, não tem serviço que preste// nenhum deles, @Claro, presta. E, são caríssimos. ..\"),\n",
    "           (\"As melhores e verdadeiras canções compomos quando temos certeza do caminho a seguir. Falo do que vivo, vivo do... http://t.co/6pVMQFg0LM\"),\n",
    "           (\"Boa sorte pra querida Cris Duclos da vivo que ta concorrendo ao Caboré 2013. Bacana participar do… http://t.co/xvtwR8UDDB\"),\n",
    "           (\"Conte uma História para uma criança Conte uma história pra Mim Itaú Itau Itaú Cultural Itaú Personnalité... http://t.co/TOir8zL4wE\"),\n",
    "           (\"Péssimo é a palavra que melhor define o serviço 3G da @ClaroBrasil. O SAC não funciona e a rede vive indisponível\"),\n",
    "           (\"Quero q todo mundo tenha dois chocolates: um pra comer e outro pra quem ta pedindo. ^-^ ^-^ Bradesco QueroQueTodoMundoTenha\"),\n",
    "           (\"SE FOR FRACO NAO FICA DE PEH,VIVO NO LIMITE,SOH Q NAO SOU LIMITADO. Vivo\"),\n",
    "           (\"ADSL OFF, Oi Velox Off novamente... que maravilha!\"),\n",
    "           (\"AloBradesco chega de desculpas quero soluções!!! Mais uma vez os caixas do auto-atendimento fora do ar as 11:15 de 13/12/13 SOLUÇÕES!!!\"),\n",
    "           (\"alobradesco mais de 30 minutos e não fui atendido ag 2178\"),\n",
    "           (\"bancodobrasil boa tarde, não consigo acessar a conta pela net. O que está acontecendo? \"),\n",
    "           (\"bancodobrasil fdp. Paguei minha multa já faz tempo e olho no site ta como não paga\"),\n",
    "           (\"bancodobrasil me impressionando a cada dia: abrem extratos aleatorios no app pra mobile e dizem q agr ta td bem e q nao foi serio! \"),\n",
    "           (\"BancodoBrasil,  incompetência define! \"),\n",
    "           (\"BancoItau ItauBanco Itau Horrível ficar esperando por um longo período sem explicação. Acho digno, ao menos uma informação. \"),\n",
    "           (\"bradesco, o banco mais retrógrado do brasil!!!!! \"),\n",
    "           (\"Bradesco, sempre fudendo com a vida das pessoas! http://t.co/js3pF4n2Yc\"),\n",
    "           (\"Cine EmChamas JogosVorazes @Bb' AmorMeu Lôra Branquelo Perfeito :) @Betinho_melo http://t.co/0fzpDxHNqM\"),\n",
    "            (\"cineart itaucard paga meia agora. Muito bom http://t.co/uIMWqfinIQ\")]"
   ]
  },
  {
   "cell_type": "code",
   "execution_count": 610,
   "id": "5ff6581c",
   "metadata": {},
   "outputs": [],
   "source": [
    "#Armazenamento das polaridades de cada documento (frase) na lista polaris\n",
    "# polaris = [-1, -1, 1, 1, 1, -1, 1, 1, 1, -1, -1, -1,-1, -1, -1, -1, -1, -1, 1, 1]\n",
    "# Uma polaridade com 50% de balanceamento\n",
    "polaris = [-1, -1, 1, 1, -1, -1, 1, 1, -1, 1, 1, -1, -1, 1, -1, 1, -1, 1, -1, 1]"
   ]
  },
  {
   "cell_type": "code",
   "execution_count": 611,
   "id": "a2fe15c1",
   "metadata": {},
   "outputs": [],
   "source": [
    "#Divisão dos dados das listas dataset e polaris em conjuntos de treinamento e validação\n",
    "dados_treino, dados_val, pols_treino, pols_val = train_test_split(dataset, polaris, test_size=0.30)"
   ]
  },
  {
   "cell_type": "code",
   "execution_count": 612,
   "id": "e2946db5",
   "metadata": {},
   "outputs": [
    {
     "name": "stdout",
     "output_type": "stream",
     "text": [
      "Conjunto de Treinamento\n",
      "['bancodobrasil fdp. Paguei minha multa já faz tempo e olho no site ta como não paga', 'Bradesco, sempre fudendo com a vida das pessoas! http://t.co/js3pF4n2Yc', 'SE FOR FRACO NAO FICA DE PEH,VIVO NO LIMITE,SOH Q NAO SOU LIMITADO. Vivo', 'Quero q todo mundo tenha dois chocolates: um pra comer e outro pra quem ta pedindo. ^-^ ^-^ Bradesco QueroQueTodoMundoTenha', 'BancoItau ItauBanco Itau Horrível ficar esperando por um longo período sem explicação. Acho digno, ao menos uma informação. ', 'bancodobrasil me impressionando a cada dia: abrem extratos aleatorios no app pra mobile e dizem q agr ta td bem e q nao foi serio! ', 'Péssimo é a palavra que melhor define o serviço 3G da @ClaroBrasil. O SAC não funciona e a rede vive indisponível', 'ADSL OFF, Oi Velox Off novamente... que maravilha!', 'alobradesco mais de 30 minutos e não fui atendido ag 2178', 'bancodobrasil boa tarde, não consigo acessar a conta pela net. O que está acontecendo? ', 'Conte uma História para uma criança Conte uma história pra Mim Itaú Itau Itaú Cultural Itaú Personnalité... http://t.co/TOir8zL4wE', 'bradesco, o banco mais retrógrado do brasil!!!!! ', 'cineart itaucard paga meia agora. Muito bom http://t.co/uIMWqfinIQ', '@luciogirotto: TERCEIRA RECLAMAÇAO bradesco alobradesco bancocentralbr BandNews datenaoficial ReclameAQUI http://t.co/v9SgaBB27A']\n",
      "Polaridades do Conjunto de Treinamento\n",
      "[-1, 1, 1, 1, 1, 1, -1, -1, 1, -1, -1, -1, 1, -1]\n",
      "\n",
      "---------------------------------------------\n",
      "\n",
      "Conjunto de Validação\n",
      "['Boa sorte pra querida Cris Duclos da vivo que ta concorrendo ao Caboré 2013. Bacana participar do… http://t.co/xvtwR8UDDB', 'BancodoBrasil,  incompetência define! ', '@RadioRockPuro: @Nilson_de_Vix @claro um pior que outro, não tem serviço que preste// nenhum deles, @Claro, presta. E, são caríssimos. ..', 'As melhores e verdadeiras canções compomos quando temos certeza do caminho a seguir. Falo do que vivo, vivo do... http://t.co/6pVMQFg0LM', 'AloBradesco chega de desculpas quero soluções!!! Mais uma vez os caixas do auto-atendimento fora do ar as 11:15 de 13/12/13 SOLUÇÕES!!!', \"Cine EmChamas JogosVorazes @Bb' AmorMeu Lôra Branquelo Perfeito :) @Betinho_melo http://t.co/0fzpDxHNqM\"]\n",
      "Polaridades do Conjunto de Validação\n",
      "[1, -1, -1, 1, 1, -1]\n"
     ]
    }
   ],
   "source": [
    "#Print do conjunto de treinamento e suas respectivas polaridades\n",
    "print(\"Conjunto de Treinamento\")\n",
    "print(dados_treino)\n",
    "print(\"Polaridades do Conjunto de Treinamento\")\n",
    "print(pols_treino)\n",
    "print(\"\\n---------------------------------------------\\n\")\n",
    "#Print do conjunto de validação e suas respectivas polaridades\n",
    "print(\"Conjunto de Validação\")\n",
    "print(dados_val)\n",
    "print(\"Polaridades do Conjunto de Validação\")\n",
    "print(pols_val)"
   ]
  },
  {
   "cell_type": "code",
   "execution_count": 613,
   "id": "ad4f108e",
   "metadata": {},
   "outputs": [],
   "source": [
    "#Cria uma instância para a bag-of-words   \n",
    "bag = CountVectorizer()"
   ]
  },
  {
   "cell_type": "code",
   "execution_count": 614,
   "id": "5e181af3",
   "metadata": {},
   "outputs": [],
   "source": [
    "#Método fit_transform: \n",
    "#fit = cria e aprende a bag\n",
    "#transform = cria a matriz termo-documento\n",
    "bag_treino = bag.fit_transform(dados_treino)"
   ]
  },
  {
   "cell_type": "code",
   "execution_count": 615,
   "id": "ccaddd55",
   "metadata": {},
   "outputs": [
    {
     "name": "stdout",
     "output_type": "stream",
     "text": [
      "Vocabulário da bag-of-words\n",
      "['2178', '30', '3g', 'abrem', 'acessar', 'acho', 'acontecendo', 'adsl', 'ag', 'agora', 'agr', 'aleatorios', 'alobradesco', 'ao', 'app', 'atendido', 'banco', 'bancocentralbr', 'bancodobrasil', 'bancoitau', 'bandnews', 'bem', 'boa', 'bom', 'bradesco', 'brasil', 'cada', 'chocolates', 'cineart', 'clarobrasil', 'co', 'com', 'comer', 'como', 'consigo', 'conta', 'conte', 'criança', 'cultural', 'da', 'das', 'datenaoficial', 'de', 'define', 'dia', 'digno', 'dizem', 'do', 'dois', 'esperando', 'está', 'explicação', 'extratos', 'faz', 'fdp', 'fica', 'ficar', 'foi', 'for', 'fraco', 'fudendo', 'fui', 'funciona', 'história', 'horrível', 'http', 'impressionando', 'indisponível', 'informação', 'itau', 'itaubanco', 'itaucard', 'itaú', 'js3pf4n2yc', 'já', 'limitado', 'limite', 'longo', 'luciogirotto', 'mais', 'maravilha', 'me', 'meia', 'melhor', 'menos', 'mim', 'minha', 'minutos', 'mobile', 'muito', 'multa', 'mundo', 'nao', 'net', 'no', 'novamente', 'não', 'off', 'oi', 'olho', 'outro', 'paga', 'paguei', 'palavra', 'para', 'pedindo', 'peh', 'pela', 'personnalité', 'período', 'pessoas', 'por', 'pra', 'péssimo', 'que', 'quem', 'quero', 'queroquetodomundotenha', 'reclamaçao', 'reclameaqui', 'rede', 'retrógrado', 'sac', 'se', 'sem', 'sempre', 'serio', 'serviço', 'site', 'soh', 'sou', 'ta', 'tarde', 'td', 'tempo', 'tenha', 'terceira', 'todo', 'toir8zl4we', 'uimwqfiniq', 'um', 'uma', 'v9sgabb27a', 'velox', 'vida', 'vive', 'vivo']\n",
      "\n",
      "---------------------------------------------\n",
      "\n"
     ]
    }
   ],
   "source": [
    "#A função sorted() ordena o vocabulário da bag-of-words   \n",
    "print(\"Vocabulário da bag-of-words\")\n",
    "print(sorted(bag.vocabulary_))\n",
    "\n",
    "print(\"\\n---------------------------------------------\\n\")"
   ]
  },
  {
   "cell_type": "code",
   "execution_count": 616,
   "id": "eab2f202",
   "metadata": {},
   "outputs": [
    {
     "name": "stdout",
     "output_type": "stream",
     "text": [
      "Bag-of-words de treino\n",
      "  (0, 18)\t1\n",
      "  (0, 54)\t1\n",
      "  (0, 102)\t1\n",
      "  (0, 86)\t1\n",
      "  (0, 90)\t1\n",
      "  (0, 74)\t1\n",
      "  (0, 53)\t1\n",
      "  (0, 134)\t1\n",
      "  (0, 99)\t1\n",
      "  (0, 94)\t1\n",
      "  (0, 128)\t1\n",
      "  (0, 131)\t1\n",
      "  (0, 33)\t1\n",
      "  (0, 96)\t1\n",
      "  (0, 101)\t1\n",
      "  (1, 24)\t1\n",
      "  (1, 125)\t1\n",
      "  (1, 60)\t1\n",
      "  (1, 31)\t1\n",
      "  (1, 144)\t1\n",
      "  (1, 40)\t1\n",
      "  (1, 110)\t1\n",
      "  (1, 65)\t1\n",
      "  (1, 30)\t1\n",
      "  (1, 73)\t1\n",
      "  :\t:\n",
      "  (11, 121)\t1\n",
      "  (11, 47)\t1\n",
      "  (11, 25)\t1\n",
      "  (12, 101)\t1\n",
      "  (12, 65)\t1\n",
      "  (12, 30)\t1\n",
      "  (12, 28)\t1\n",
      "  (12, 71)\t1\n",
      "  (12, 82)\t1\n",
      "  (12, 9)\t1\n",
      "  (12, 89)\t1\n",
      "  (12, 23)\t1\n",
      "  (12, 139)\t1\n",
      "  (13, 24)\t1\n",
      "  (13, 65)\t1\n",
      "  (13, 30)\t1\n",
      "  (13, 12)\t1\n",
      "  (13, 78)\t1\n",
      "  (13, 136)\t1\n",
      "  (13, 118)\t1\n",
      "  (13, 17)\t1\n",
      "  (13, 20)\t1\n",
      "  (13, 41)\t1\n",
      "  (13, 119)\t1\n",
      "  (13, 142)\t1\n",
      "\n",
      "---------------------------------------------\n",
      "\n"
     ]
    }
   ],
   "source": [
    "#Printa a bag-of-words    \n",
    "print(\"Bag-of-words de treino\")\n",
    "print(bag_treino)\n",
    "print(\"\\n---------------------------------------------\\n\")"
   ]
  },
  {
   "cell_type": "code",
   "execution_count": 617,
   "id": "1ce4106d",
   "metadata": {},
   "outputs": [],
   "source": [
    "#Cria a matriz termo-documento para o conjunto de validação com a bag já treinada\n",
    "bag_val = bag.transform(dados_val)"
   ]
  },
  {
   "cell_type": "code",
   "execution_count": 618,
   "id": "bacf809d",
   "metadata": {
    "scrolled": true
   },
   "outputs": [
    {
     "name": "stdout",
     "output_type": "stream",
     "text": [
      "Bag-of-words de validação\n",
      "  (0, 13)\t1\n",
      "  (0, 22)\t1\n",
      "  (0, 30)\t1\n",
      "  (0, 39)\t1\n",
      "  (0, 47)\t1\n",
      "  (0, 65)\t1\n",
      "  (0, 112)\t1\n",
      "  (0, 114)\t1\n",
      "  (0, 131)\t1\n",
      "  (0, 146)\t1\n",
      "  (1, 18)\t1\n",
      "  (1, 43)\t1\n",
      "  (2, 96)\t1\n",
      "  (2, 100)\t1\n",
      "  (2, 114)\t2\n",
      "  (2, 127)\t1\n",
      "  (2, 140)\t1\n",
      "  (3, 30)\t1\n",
      "  (3, 47)\t3\n",
      "  (3, 65)\t1\n",
      "  (3, 114)\t1\n",
      "  (3, 146)\t2\n",
      "  (4, 12)\t1\n",
      "  (4, 42)\t2\n",
      "  (4, 47)\t2\n",
      "  (4, 79)\t1\n",
      "  (4, 116)\t1\n",
      "  (4, 141)\t1\n",
      "  (5, 30)\t1\n",
      "  (5, 65)\t1\n",
      "\n",
      "---------------------------------------------\n",
      "\n"
     ]
    }
   ],
   "source": [
    "#Printa a matriz termo-documento criada para o conjunto de validação    \n",
    "print(\"Bag-of-words de validação\")\n",
    "print(bag_val)\n",
    "print(\"\\n---------------------------------------------\\n\")"
   ]
  },
  {
   "cell_type": "code",
   "execution_count": 619,
   "id": "ad656ee3",
   "metadata": {},
   "outputs": [],
   "source": [
    "X = bag_treino.toarray()\n",
    "y = np.array(pols_treino)"
   ]
  },
  {
   "cell_type": "markdown",
   "id": "f0c21204",
   "metadata": {},
   "source": [
    "# Holdout"
   ]
  },
  {
   "cell_type": "code",
   "execution_count": 620,
   "id": "2ab19d61",
   "metadata": {},
   "outputs": [
    {
     "name": "stdout",
     "output_type": "stream",
     "text": [
      "(9, 147) (9,)\n",
      "(5, 147) (5,)\n"
     ]
    }
   ],
   "source": [
    "from sklearn.model_selection import train_test_split\n",
    "\n",
    "# X_treino, X_teste, y_treino, y_teste = train_test_split(X, y, test_size=0.3, random_state=42)\n",
    "X_treino, X_teste, y_treino, y_teste = train_test_split(X, y, test_size=0.3)\n",
    "\n",
    "print(X_treino.shape, y_treino.shape)\n",
    "print(X_teste.shape, y_teste.shape)"
   ]
  },
  {
   "cell_type": "code",
   "execution_count": 621,
   "id": "dc9c62d5",
   "metadata": {},
   "outputs": [
    {
     "data": {
      "text/plain": [
       "0.4"
      ]
     },
     "execution_count": 621,
     "metadata": {},
     "output_type": "execute_result"
    }
   ],
   "source": [
    "from sklearn.neural_network import MLPClassifier\n",
    "\n",
    "# mlp = MLPClassifier(activation=\"relu\", hidden_layer_sizes=(10, 20,))\n",
    "# mlp = MLPClassifier(activation=\"tanh\", hidden_layer_sizes=(10, 20,))\n",
    "# mlp = MLPClassifier(activation=\"logistic\", hidden_layer_sizes=(10, 20,))\n",
    "mlp = MLPClassifier(activation=\"identity\", hidden_layer_sizes=(10, 20,))\n",
    "mlp.fit(X_treino, y_treino)\n",
    "mlp.predict(X_teste)\n",
    "mlp.score(X_teste, y_teste)"
   ]
  },
  {
   "cell_type": "markdown",
   "id": "1f0d90aa",
   "metadata": {},
   "source": [
    "# K-fold"
   ]
  },
  {
   "cell_type": "code",
   "execution_count": 622,
   "id": "28f3ddd7",
   "metadata": {
    "scrolled": false
   },
   "outputs": [
    {
     "name": "stdout",
     "output_type": "stream",
     "text": [
      "0.45\n"
     ]
    }
   ],
   "source": [
    "from sklearn.model_selection import KFold\n",
    "\n",
    "resultados = []\n",
    "# kf = KFold(n_splits=len(X), shuffle=True)\n",
    "kf = KFold(n_splits=10, shuffle=True)\n",
    "for index_treino, index_teste in kf.split(X):\n",
    "    X_treino, X_teste = X[index_treino], X[index_teste]\n",
    "    y_treino, y_teste = y[index_treino], y[index_teste]\n",
    "#     X_treino, X_teste = X.iloc[index_treino], X.iloc[index_teste]\n",
    "#     y_treino, y_teste = y.iloc[index_treino], y.iloc[index_teste]\n",
    "    mlp.fit(X_treino, y_treino)\n",
    "    resultados.append(mlp.score(X_teste, y_teste))\n",
    "print(sum(resultados)/len(resultados))"
   ]
  },
  {
   "cell_type": "markdown",
   "id": "24cf3664",
   "metadata": {},
   "source": [
    "# Métricas"
   ]
  },
  {
   "cell_type": "code",
   "execution_count": 623,
   "id": "662809bf",
   "metadata": {
    "scrolled": true
   },
   "outputs": [
    {
     "data": {
      "text/plain": [
       "0.2"
      ]
     },
     "execution_count": 623,
     "metadata": {},
     "output_type": "execute_result"
    }
   ],
   "source": [
    "X_treino, X_teste, y_treino, y_teste = train_test_split(X, y, test_size=0.3, random_state=42)\n",
    "\n",
    "# mlp = MLPClassifier(activation=\"relu\", hidden_layer_sizes=(10, 20,))\n",
    "# mlp = MLPClassifier(activation=\"tanh\", hidden_layer_sizes=(10, 20,))\n",
    "# mlp = MLPClassifier(activation=\"logistic\", hidden_layer_sizes=(10, 20,))\n",
    "mlp = MLPClassifier(activation=\"identity\", hidden_layer_sizes=(10, 20,))\n",
    "mlp.fit(X_treino, y_treino)\n",
    "mlp.score(X_teste, y_teste)"
   ]
  },
  {
   "cell_type": "code",
   "execution_count": 624,
   "id": "6cb00641",
   "metadata": {},
   "outputs": [
    {
     "data": {
      "text/plain": [
       "0.125"
      ]
     },
     "execution_count": 624,
     "metadata": {},
     "output_type": "execute_result"
    }
   ],
   "source": [
    "from sklearn.metrics import precision_score, recall_score, f1_score\n",
    "\n",
    "y_pred = mlp.predict(X_teste)\n",
    "\n",
    "precision_score(y_teste, y_pred, average='macro')"
   ]
  },
  {
   "cell_type": "code",
   "execution_count": 625,
   "id": "ee843cf6",
   "metadata": {},
   "outputs": [
    {
     "data": {
      "text/plain": [
       "0.25"
      ]
     },
     "execution_count": 625,
     "metadata": {},
     "output_type": "execute_result"
    }
   ],
   "source": [
    "recall_score(y_teste, y_pred, average='macro')"
   ]
  },
  {
   "cell_type": "code",
   "execution_count": 626,
   "id": "0ca43cc4",
   "metadata": {},
   "outputs": [
    {
     "data": {
      "text/plain": [
       "0.16666666666666666"
      ]
     },
     "execution_count": 626,
     "metadata": {},
     "output_type": "execute_result"
    }
   ],
   "source": [
    "f1_score(y_teste, y_pred, average='macro')"
   ]
  },
  {
   "cell_type": "markdown",
   "id": "fc20c8d9",
   "metadata": {},
   "source": [
    "# Redes Neurais com estimação dos parametros"
   ]
  },
  {
   "cell_type": "code",
   "execution_count": 627,
   "id": "9ca94b3e",
   "metadata": {},
   "outputs": [],
   "source": [
    "from sklearn.svm import SVC\n",
    "\n",
    "valores_kernel = [\"linear\", \"poly\", \"rbf\", \"sigmoid\"]\n",
    "\n",
    "for kernel in valores_kernel:\n",
    "    svc = SVC(kernel=kernel)\n"
   ]
  },
  {
   "cell_type": "code",
   "execution_count": 628,
   "id": "fcd4f219",
   "metadata": {
    "scrolled": true
   },
   "outputs": [
    {
     "name": "stderr",
     "output_type": "stream",
     "text": [
      "C:\\Users\\jrivo\\AppData\\Local\\Programs\\Python\\Python310\\lib\\site-packages\\sklearn\\neural_network\\_multilayer_perceptron.py:692: ConvergenceWarning: Stochastic Optimizer: Maximum iterations (200) reached and the optimization hasn't converged yet.\n",
      "  warnings.warn(\n",
      "C:\\Users\\jrivo\\AppData\\Local\\Programs\\Python\\Python310\\lib\\site-packages\\sklearn\\neural_network\\_multilayer_perceptron.py:692: ConvergenceWarning: Stochastic Optimizer: Maximum iterations (200) reached and the optimization hasn't converged yet.\n",
      "  warnings.warn(\n",
      "C:\\Users\\jrivo\\AppData\\Local\\Programs\\Python\\Python310\\lib\\site-packages\\sklearn\\neural_network\\_multilayer_perceptron.py:692: ConvergenceWarning: Stochastic Optimizer: Maximum iterations (200) reached and the optimization hasn't converged yet.\n",
      "  warnings.warn(\n",
      "C:\\Users\\jrivo\\AppData\\Local\\Programs\\Python\\Python310\\lib\\site-packages\\sklearn\\neural_network\\_multilayer_perceptron.py:692: ConvergenceWarning: Stochastic Optimizer: Maximum iterations (200) reached and the optimization hasn't converged yet.\n",
      "  warnings.warn(\n",
      "C:\\Users\\jrivo\\AppData\\Local\\Programs\\Python\\Python310\\lib\\site-packages\\sklearn\\neural_network\\_multilayer_perceptron.py:692: ConvergenceWarning: Stochastic Optimizer: Maximum iterations (200) reached and the optimization hasn't converged yet.\n",
      "  warnings.warn(\n",
      "C:\\Users\\jrivo\\AppData\\Local\\Programs\\Python\\Python310\\lib\\site-packages\\sklearn\\neural_network\\_multilayer_perceptron.py:692: ConvergenceWarning: Stochastic Optimizer: Maximum iterations (200) reached and the optimization hasn't converged yet.\n",
      "  warnings.warn(\n",
      "C:\\Users\\jrivo\\AppData\\Local\\Programs\\Python\\Python310\\lib\\site-packages\\sklearn\\neural_network\\_multilayer_perceptron.py:692: ConvergenceWarning: Stochastic Optimizer: Maximum iterations (200) reached and the optimization hasn't converged yet.\n",
      "  warnings.warn(\n",
      "C:\\Users\\jrivo\\AppData\\Local\\Programs\\Python\\Python310\\lib\\site-packages\\sklearn\\neural_network\\_multilayer_perceptron.py:692: ConvergenceWarning: Stochastic Optimizer: Maximum iterations (200) reached and the optimization hasn't converged yet.\n",
      "  warnings.warn(\n"
     ]
    },
    {
     "data": {
      "text/plain": [
       "[0.125, 0.125, 0.1875, 0.125]"
      ]
     },
     "execution_count": 628,
     "metadata": {},
     "output_type": "execute_result"
    }
   ],
   "source": [
    "from sklearn.neural_network import MLPClassifier\n",
    "\n",
    "\n",
    "valores_ativacao = [\"identity\", \"logistic\", \"tanh\", \"relu\"]\n",
    "resultados_mlp = []\n",
    "\n",
    "for ativacao in valores_ativacao:\n",
    "    resultados_ativacao = []\n",
    "    mlp = MLPClassifier(activation=ativacao)\n",
    "#     kf = KFold(n_splits=9, shuffle=True)\n",
    "    kf = KFold(n_splits=8, shuffle=True)\n",
    "#     kf = KFold(n_splits=7, shuffle=True)\n",
    "#     kf = KFold(n_splits=6, shuffle=True)\n",
    "#     kf = KFold(n_splits=5, shuffle=True)\n",
    "#     kf = KFold(n_splits=4, shuffle=True)\n",
    "  \n",
    "        \n",
    "    \n",
    "    for index_train, index_valid in kf.split(X_treino):\n",
    "        X_train, X_validacao = X_treino[index_train], X_treino[index_valid]\n",
    "        y_train, y_validacao = y_treino[index_train], y_treino[index_valid]\n",
    "        mlp.fit(X_train, y_train)\n",
    "        svc.fit(X_train, y_train)\n",
    "        resultados_ativacao.append(svc.score(X_validacao, y_validacao))\n",
    "    resultados_mlp.append(sum(resultados_ativacao)/len(resultados_ativacao))\n",
    "resultados_mlp"
   ]
  },
  {
   "cell_type": "code",
   "execution_count": 629,
   "id": "e60a2928",
   "metadata": {},
   "outputs": [
    {
     "data": {
      "image/png": "[encoded data removed]",
      "text/plain": [
       "<Figure size 864x720 with 1 Axes>"
      ]
     },
     "metadata": {
      "needs_background": "light"
     },
     "output_type": "display_data"
    }
   ],
   "source": [
    "import matplotlib.pyplot as plt\n",
    "\n",
    "plt.figure(figsize=(12,10))\n",
    "plt.plot(resultados_mlp, label='Acc% - K-Fold')\n",
    "plt.legend()\n",
    "plt.show()"
   ]
  },
  {
   "cell_type": "code",
   "execution_count": 630,
   "id": "195eab0c",
   "metadata": {},
   "outputs": [
    {
     "data": {
      "text/plain": [
       "0.2"
      ]
     },
     "execution_count": 630,
     "metadata": {},
     "output_type": "execute_result"
    }
   ],
   "source": [
    "mlp = MLPClassifier(activation=\"tanh\")\n",
    "mlp.fit(X_treino, y_treino)\n",
    "mlp.score(X_teste, y_teste)"
   ]
  },
  {
   "cell_type": "code",
   "execution_count": 631,
   "id": "badb0af9",
   "metadata": {},
   "outputs": [
    {
     "name": "stdout",
     "output_type": "stream",
     "text": [
      "Precision: 0.5833333333333333 \t Recall: 0.5833333333333333 \t F1: 0.5833333333333333\n"
     ]
    }
   ],
   "source": [
    "y_pred = svc.predict(X_teste)\n",
    "\n",
    "ps = precision_score(y_teste, y_pred, average='macro')\n",
    "rs = recall_score(y_teste, y_pred, average='macro')\n",
    "f1 = f1_score(y_teste, y_pred, average='macro')\n",
    "print(f'Precision: {ps} \\t Recall: {rs} \\t F1: {f1}')"
   ]
  },
  {
   "cell_type": "code",
   "execution_count": null,
   "id": "71680e1c",
   "metadata": {},
   "outputs": [],
   "source": []
  }
 ],
 "metadata": {
  "kernelspec": {
   "display_name": "Python 3 (ipykernel)",
   "language": "python",
   "name": "python3"
  },
  "language_info": {
   "codemirror_mode": {
    "name": "ipython",
    "version": 3
   },
   "file_extension": ".py",
   "mimetype": "text/x-python",
   "name": "python",
   "nbconvert_exporter": "python",
   "pygments_lexer": "ipython3",
   "version": "3.10.1"
  }
 },
 "nbformat": 4,
 "nbformat_minor": 5
}
