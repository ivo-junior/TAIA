{
 "cells": [
  {
   "cell_type": "markdown",
   "id": "31591a54",
   "metadata": {},
   "source": [
    "# Análise de Sentimentos - Tweets"
   ]
  },
  {
   "cell_type": "code",
   "execution_count": 29,
   "id": "47886f38",
   "metadata": {},
   "outputs": [],
   "source": [
    "#Conjunto de importações\n",
    "from sklearn.model_selection import train_test_split\n",
    "from sklearn.feature_extraction.text import CountVectorizer\n",
    "from sklearn.naive_bayes import MultinomialNB\n",
    "from sklearn.metrics import accuracy_score\n",
    "from sklearn.metrics import confusion_matrix\n",
    "import numpy as np\n",
    "import pandas as pd"
   ]
  },
  {
   "cell_type": "code",
   "execution_count": 30,
   "id": "7912dc27",
   "metadata": {},
   "outputs": [],
   "source": [
    "#Armazenamento de documentos (frases) na lista dataset\n",
    "dataset = [(\"@luciogirotto: TERCEIRA RECLAMAÇAO bradesco alobradesco bancocentralbr BandNews datenaoficial ReclameAQUI http://t.co/v9SgaBB27A\"),\n",
    "           (\"@RadioRockPuro: @Nilson_de_Vix @claro um pior que outro, não tem serviço que preste// nenhum deles, @Claro, presta. E, são caríssimos. ..\"),\n",
    "           (\"As melhores e verdadeiras canções compomos quando temos certeza do caminho a seguir. Falo do que vivo, vivo do... http://t.co/6pVMQFg0LM\"),\n",
    "           (\"Boa sorte pra querida Cris Duclos da vivo que ta concorrendo ao Caboré 2013. Bacana participar do… http://t.co/xvtwR8UDDB\"),\n",
    "           (\"Conte uma História para uma criança Conte uma história pra Mim Itaú Itau Itaú Cultural Itaú Personnalité... http://t.co/TOir8zL4wE\"),\n",
    "           (\"Péssimo é a palavra que melhor define o serviço 3G da @ClaroBrasil. O SAC não funciona e a rede vive indisponível\"),\n",
    "           (\"Quero q todo mundo tenha dois chocolates: um pra comer e outro pra quem ta pedindo. ^-^ ^-^ Bradesco QueroQueTodoMundoTenha\"),\n",
    "           (\"SE FOR FRACO NAO FICA DE PEH,VIVO NO LIMITE,SOH Q NAO SOU LIMITADO. Vivo\"),\n",
    "           (\"ADSL OFF, Oi Velox Off novamente... que maravilha!\"),\n",
    "           (\"AloBradesco chega de desculpas quero soluções!!! Mais uma vez os caixas do auto-atendimento fora do ar as 11:15 de 13/12/13 SOLUÇÕES!!!\"),\n",
    "           (\"alobradesco mais de 30 minutos e não fui atendido ag 2178\"),\n",
    "           (\"bancodobrasil boa tarde, não consigo acessar a conta pela net. O que está acontecendo? \"),\n",
    "           (\"bancodobrasil fdp. Paguei minha multa já faz tempo e olho no site ta como não paga\"),\n",
    "           (\"bancodobrasil me impressionando a cada dia: abrem extratos aleatorios no app pra mobile e dizem q agr ta td bem e q nao foi serio! \"),\n",
    "           (\"BancodoBrasil,  incompetência define! \"),\n",
    "           (\"BancoItau ItauBanco Itau Horrível ficar esperando por um longo período sem explicação. Acho digno, ao menos uma informação. \"),\n",
    "           (\"bradesco, o banco mais retrógrado do brasil!!!!! \"),\n",
    "           (\"Bradesco, sempre fudendo com a vida das pessoas! http://t.co/js3pF4n2Yc\"),\n",
    "           (\"Cine EmChamas JogosVorazes @Bb' AmorMeu Lôra Branquelo Perfeito :) @Betinho_melo http://t.co/0fzpDxHNqM\"),\n",
    "            (\"cineart itaucard paga meia agora. Muito bom http://t.co/uIMWqfinIQ\")]"
   ]
  },
  {
   "cell_type": "code",
   "execution_count": 31,
   "id": "5ff6581c",
   "metadata": {},
   "outputs": [],
   "source": [
    "#Armazenamento das polaridades de cada documento (frase) na lista polaris\n",
    "polaris = [-1, -1, 1, 1, 1, -1, 1, 1, 1, -1, -1, -1,-1, -1, -1, -1, -1, -1, 1, 1]\n",
    "# Uma polaridade com 50% de balanceamento\n",
    "# polaris = [-1, -1, 1, 1, -1, -1, 1, 1, -1, 1, 1, -1, -1, 1, -1, 1, -1, 1, -1, 1]"
   ]
  },
  {
   "cell_type": "code",
   "execution_count": 32,
   "id": "a2fe15c1",
   "metadata": {},
   "outputs": [],
   "source": [
    "#Divisão dos dados das listas dataset e polaris em conjuntos de treinamento e validação\n",
    "dados_treino, dados_val, pols_treino, pols_val = train_test_split(dataset, polaris, test_size=0.30)"
   ]
  },
  {
   "cell_type": "code",
   "execution_count": 33,
   "id": "e2946db5",
   "metadata": {},
   "outputs": [
    {
     "name": "stdout",
     "output_type": "stream",
     "text": [
      "Conjunto de Treinamento\n",
      "['bancodobrasil boa tarde, não consigo acessar a conta pela net. O que está acontecendo? ', 'Boa sorte pra querida Cris Duclos da vivo que ta concorrendo ao Caboré 2013. Bacana participar do… http://t.co/xvtwR8UDDB', 'bancodobrasil fdp. Paguei minha multa já faz tempo e olho no site ta como não paga', 'AloBradesco chega de desculpas quero soluções!!! Mais uma vez os caixas do auto-atendimento fora do ar as 11:15 de 13/12/13 SOLUÇÕES!!!', 'BancodoBrasil,  incompetência define! ', 'As melhores e verdadeiras canções compomos quando temos certeza do caminho a seguir. Falo do que vivo, vivo do... http://t.co/6pVMQFg0LM', 'Bradesco, sempre fudendo com a vida das pessoas! http://t.co/js3pF4n2Yc', 'BancoItau ItauBanco Itau Horrível ficar esperando por um longo período sem explicação. Acho digno, ao menos uma informação. ', 'bradesco, o banco mais retrógrado do brasil!!!!! ', 'cineart itaucard paga meia agora. Muito bom http://t.co/uIMWqfinIQ', 'ADSL OFF, Oi Velox Off novamente... que maravilha!', 'alobradesco mais de 30 minutos e não fui atendido ag 2178', '@luciogirotto: TERCEIRA RECLAMAÇAO bradesco alobradesco bancocentralbr BandNews datenaoficial ReclameAQUI http://t.co/v9SgaBB27A', 'bancodobrasil me impressionando a cada dia: abrem extratos aleatorios no app pra mobile e dizem q agr ta td bem e q nao foi serio! ']\n",
      "Polaridades do Conjunto de Treinamento\n",
      "[-1, 1, -1, -1, -1, 1, -1, -1, -1, 1, 1, -1, -1, -1]\n",
      "\n",
      "---------------------------------------------\n",
      "\n",
      "Conjunto de Validação\n",
      "[\"Cine EmChamas JogosVorazes @Bb' AmorMeu Lôra Branquelo Perfeito :) @Betinho_melo http://t.co/0fzpDxHNqM\", 'Quero q todo mundo tenha dois chocolates: um pra comer e outro pra quem ta pedindo. ^-^ ^-^ Bradesco QueroQueTodoMundoTenha', 'Conte uma História para uma criança Conte uma história pra Mim Itaú Itau Itaú Cultural Itaú Personnalité... http://t.co/TOir8zL4wE', 'SE FOR FRACO NAO FICA DE PEH,VIVO NO LIMITE,SOH Q NAO SOU LIMITADO. Vivo', 'Péssimo é a palavra que melhor define o serviço 3G da @ClaroBrasil. O SAC não funciona e a rede vive indisponível', '@RadioRockPuro: @Nilson_de_Vix @claro um pior que outro, não tem serviço que preste// nenhum deles, @Claro, presta. E, são caríssimos. ..']\n",
      "Polaridades do Conjunto de Validação\n",
      "[1, 1, 1, 1, -1, -1]\n"
     ]
    }
   ],
   "source": [
    "#Print do conjunto de treinamento e suas respectivas polaridades\n",
    "print(\"Conjunto de Treinamento\")\n",
    "print(dados_treino)\n",
    "print(\"Polaridades do Conjunto de Treinamento\")\n",
    "print(pols_treino)\n",
    "print(\"\\n---------------------------------------------\\n\")\n",
    "#Print do conjunto de validação e suas respectivas polaridades\n",
    "print(\"Conjunto de Validação\")\n",
    "print(dados_val)\n",
    "print(\"Polaridades do Conjunto de Validação\")\n",
    "print(pols_val)"
   ]
  },
  {
   "cell_type": "code",
   "execution_count": 34,
   "id": "ad4f108e",
   "metadata": {},
   "outputs": [],
   "source": [
    "#Cria uma instância para a bag-of-words   \n",
    "bag = CountVectorizer()"
   ]
  },
  {
   "cell_type": "code",
   "execution_count": 35,
   "id": "5e181af3",
   "metadata": {},
   "outputs": [],
   "source": [
    "#Método fit_transform: \n",
    "#fit = cria e aprende a bag\n",
    "#transform = cria a matriz termo-documento\n",
    "bag_treino = bag.fit_transform(dados_treino)"
   ]
  },
  {
   "cell_type": "code",
   "execution_count": 36,
   "id": "ccaddd55",
   "metadata": {},
   "outputs": [
    {
     "name": "stdout",
     "output_type": "stream",
     "text": [
      "Vocabulário da bag-of-words\n",
      "['11', '12', '13', '15', '2013', '2178', '30', '6pvmqfg0lm', 'abrem', 'acessar', 'acho', 'acontecendo', 'adsl', 'ag', 'agora', 'agr', 'aleatorios', 'alobradesco', 'ao', 'app', 'ar', 'as', 'atendido', 'atendimento', 'auto', 'bacana', 'banco', 'bancocentralbr', 'bancodobrasil', 'bancoitau', 'bandnews', 'bem', 'boa', 'bom', 'bradesco', 'brasil', 'caboré', 'cada', 'caixas', 'caminho', 'canções', 'certeza', 'chega', 'cineart', 'co', 'com', 'como', 'compomos', 'concorrendo', 'consigo', 'conta', 'cris', 'da', 'das', 'datenaoficial', 'de', 'define', 'desculpas', 'dia', 'digno', 'dizem', 'do', 'duclos', 'esperando', 'está', 'explicação', 'extratos', 'falo', 'faz', 'fdp', 'ficar', 'foi', 'fora', 'fudendo', 'fui', 'horrível', 'http', 'impressionando', 'incompetência', 'informação', 'itau', 'itaubanco', 'itaucard', 'js3pf4n2yc', 'já', 'longo', 'luciogirotto', 'mais', 'maravilha', 'me', 'meia', 'melhores', 'menos', 'minha', 'minutos', 'mobile', 'muito', 'multa', 'nao', 'net', 'no', 'novamente', 'não', 'off', 'oi', 'olho', 'os', 'paga', 'paguei', 'participar', 'pela', 'período', 'pessoas', 'por', 'pra', 'quando', 'que', 'querida', 'quero', 'reclamaçao', 'reclameaqui', 'retrógrado', 'seguir', 'sem', 'sempre', 'serio', 'site', 'soluções', 'sorte', 'ta', 'tarde', 'td', 'temos', 'tempo', 'terceira', 'uimwqfiniq', 'um', 'uma', 'v9sgabb27a', 'velox', 'verdadeiras', 'vez', 'vida', 'vivo', 'xvtwr8uddb']\n",
      "\n",
      "---------------------------------------------\n",
      "\n"
     ]
    }
   ],
   "source": [
    "#A função sorted() ordena o vocabulário da bag-of-words   \n",
    "print(\"Vocabulário da bag-of-words\")\n",
    "print(sorted(bag.vocabulary_))\n",
    "\n",
    "print(\"\\n---------------------------------------------\\n\")"
   ]
  },
  {
   "cell_type": "code",
   "execution_count": 37,
   "id": "eab2f202",
   "metadata": {},
   "outputs": [
    {
     "name": "stdout",
     "output_type": "stream",
     "text": [
      "Bag-of-words de treino\n",
      "  (0, 28)\t1\n",
      "  (0, 32)\t1\n",
      "  (0, 130)\t1\n",
      "  (0, 102)\t1\n",
      "  (0, 49)\t1\n",
      "  (0, 9)\t1\n",
      "  (0, 50)\t1\n",
      "  (0, 110)\t1\n",
      "  (0, 99)\t1\n",
      "  (0, 116)\t1\n",
      "  (0, 64)\t1\n",
      "  (0, 11)\t1\n",
      "  (1, 32)\t1\n",
      "  (1, 116)\t1\n",
      "  (1, 128)\t1\n",
      "  (1, 114)\t1\n",
      "  (1, 117)\t1\n",
      "  (1, 51)\t1\n",
      "  (1, 62)\t1\n",
      "  (1, 52)\t1\n",
      "  (1, 143)\t1\n",
      "  (1, 129)\t1\n",
      "  (1, 48)\t1\n",
      "  (1, 18)\t1\n",
      "  (1, 36)\t1\n",
      "  :\t:\n",
      "  (12, 27)\t1\n",
      "  (12, 30)\t1\n",
      "  (12, 54)\t1\n",
      "  (12, 120)\t1\n",
      "  (12, 138)\t1\n",
      "  (13, 28)\t1\n",
      "  (13, 114)\t1\n",
      "  (13, 129)\t1\n",
      "  (13, 100)\t1\n",
      "  (13, 89)\t1\n",
      "  (13, 77)\t1\n",
      "  (13, 37)\t1\n",
      "  (13, 58)\t1\n",
      "  (13, 8)\t1\n",
      "  (13, 66)\t1\n",
      "  (13, 16)\t1\n",
      "  (13, 19)\t1\n",
      "  (13, 95)\t1\n",
      "  (13, 60)\t1\n",
      "  (13, 15)\t1\n",
      "  (13, 131)\t1\n",
      "  (13, 31)\t1\n",
      "  (13, 98)\t1\n",
      "  (13, 71)\t1\n",
      "  (13, 125)\t1\n",
      "\n",
      "---------------------------------------------\n",
      "\n"
     ]
    }
   ],
   "source": [
    "#Printa a bag-of-words    \n",
    "print(\"Bag-of-words de treino\")\n",
    "print(bag_treino)\n",
    "print(\"\\n---------------------------------------------\\n\")"
   ]
  },
  {
   "cell_type": "code",
   "execution_count": 38,
   "id": "1ce4106d",
   "metadata": {},
   "outputs": [],
   "source": [
    "#Cria a matriz termo-documento para o conjunto de validação com a bag já treinada\n",
    "bag_val = bag.transform(dados_val)"
   ]
  },
  {
   "cell_type": "code",
   "execution_count": 39,
   "id": "bacf809d",
   "metadata": {
    "scrolled": false
   },
   "outputs": [
    {
     "name": "stdout",
     "output_type": "stream",
     "text": [
      "Bag-of-words de validação\n",
      "  (0, 44)\t1\n",
      "  (0, 76)\t1\n",
      "  (1, 34)\t1\n",
      "  (1, 114)\t2\n",
      "  (1, 118)\t1\n",
      "  (1, 129)\t1\n",
      "  (1, 136)\t1\n",
      "  (2, 44)\t1\n",
      "  (2, 76)\t1\n",
      "  (2, 80)\t1\n",
      "  (2, 114)\t1\n",
      "  (2, 137)\t3\n",
      "  (3, 55)\t1\n",
      "  (3, 98)\t2\n",
      "  (3, 100)\t1\n",
      "  (3, 143)\t2\n",
      "  (4, 52)\t1\n",
      "  (4, 56)\t1\n",
      "  (4, 102)\t1\n",
      "  (4, 116)\t1\n",
      "  (5, 102)\t1\n",
      "  (5, 116)\t2\n",
      "  (5, 136)\t1\n",
      "\n",
      "---------------------------------------------\n",
      "\n"
     ]
    }
   ],
   "source": [
    "#Printa a matriz termo-documento criada para o conjunto de validação    \n",
    "print(\"Bag-of-words de validação\")\n",
    "print(bag_val)\n",
    "print(\"\\n---------------------------------------------\\n\")"
   ]
  },
  {
   "cell_type": "code",
   "execution_count": 40,
   "id": "0f286791",
   "metadata": {},
   "outputs": [
    {
     "name": "stdout",
     "output_type": "stream",
     "text": [
      "Polidaridades de Validação --  [1, 1, 1, 1, -1, -1]\n"
     ]
    }
   ],
   "source": [
    "print(\"Polidaridades de Validação -- \", pols_val)"
   ]
  },
  {
   "cell_type": "code",
   "execution_count": 41,
   "id": "22870c3e",
   "metadata": {},
   "outputs": [
    {
     "name": "stdout",
     "output_type": "stream",
     "text": [
      "Projecting 145-dimensional data to 2D\n"
     ]
    },
    {
     "data": {
      "image/png": "[encoded data removed]",
      "text/plain": [
       "<Figure size 864x720 with 2 Axes>"
      ]
     },
     "metadata": {
      "needs_background": "light"
     },
     "output_type": "display_data"
    }
   ],
   "source": [
    "import matplotlib.pyplot as plt\n",
    "from sklearn.decomposition import PCA\n",
    "\n",
    "# Usa PCA para reduzir a quantidade de atributos de 4 para 2\n",
    "\n",
    "pca = PCA(n_components=2)\n",
    "# X_reduced = pca.fit_transform(( pd.DataFrame(bag_treino).values)\n",
    "X_reduced = pca.fit_transform(bag_treino.toarray())\n",
    "\n",
    "\n",
    "print('Projecting %d-dimensional data to 2D' % bag_treino.toarray().shape[1])\n",
    "\n",
    "plt.figure(figsize=(12,10))\n",
    "plt.xlim([-4, 4])\n",
    "plt.ylim([-4, 4])\n",
    "plt.scatter(X_reduced[:, 0], X_reduced[:, 1], c=pols_treino, \n",
    "            edgecolor='none', alpha=0.7, s=40,\n",
    "            cmap=plt.cm.get_cmap('nipy_spectral', 3))\n",
    "plt.colorbar()\n",
    "plt.title('PCA projection');"
   ]
  },
  {
   "cell_type": "markdown",
   "id": "f0c21204",
   "metadata": {},
   "source": [
    "KNN"
   ]
  },
  {
   "cell_type": "code",
   "execution_count": 42,
   "id": "baa8ba0e",
   "metadata": {
    "scrolled": true
   },
   "outputs": [
    {
     "data": {
      "text/plain": [
       "array([-1, -1, -1, -1, -1, -1])"
      ]
     },
     "execution_count": 42,
     "metadata": {},
     "output_type": "execute_result"
    }
   ],
   "source": [
    "from sklearn.neighbors import KNeighborsClassifier\n",
    "\n",
    "# Vamos utilizar os três vizinhos mais próximos para prever nossa classe.\n",
    "knn = KNeighborsClassifier(n_neighbors=3)\n",
    "\n",
    "# Executar o treinamento\n",
    "knn.fit(bag_treino, pols_treino)\n",
    "# Vamos testar\n",
    "\n",
    "\n",
    "knn.predict(bag_val)"
   ]
  },
  {
   "cell_type": "markdown",
   "id": "57ef08d3",
   "metadata": {},
   "source": [
    "Naive Bayes"
   ]
  },
  {
   "cell_type": "markdown",
   "id": "85776b87",
   "metadata": {},
   "source": [
    "Gaussian"
   ]
  },
  {
   "cell_type": "code",
   "execution_count": 43,
   "id": "c02aabf7",
   "metadata": {},
   "outputs": [
    {
     "data": {
      "text/plain": [
       "array([ 1, -1, -1, -1, -1, -1])"
      ]
     },
     "execution_count": 43,
     "metadata": {},
     "output_type": "execute_result"
    }
   ],
   "source": [
    "from sklearn.naive_bayes import GaussianNB\n",
    "\n",
    "\n",
    "gnb = GaussianNB()\n",
    "x = bag_treino.toarray()\n",
    "y = pols_treino\n",
    "\n",
    "# print(x,\"------\", y)\n",
    "\n",
    "gnb.fit(x, y)\n",
    "\n",
    "gnb.predict(bag_val.toarray())"
   ]
  },
  {
   "cell_type": "markdown",
   "id": "dc3434b4",
   "metadata": {},
   "source": [
    "Multinominal"
   ]
  },
  {
   "cell_type": "code",
   "execution_count": 44,
   "id": "4eb1304e",
   "metadata": {},
   "outputs": [
    {
     "data": {
      "text/plain": [
       "array([ 1, -1, -1, -1, -1, -1])"
      ]
     },
     "execution_count": 44,
     "metadata": {},
     "output_type": "execute_result"
    }
   ],
   "source": [
    "mnb = MultinomialNB()\n",
    "mnb.fit(x, y)\n",
    "mnb.predict(bag_val.toarray())"
   ]
  },
  {
   "cell_type": "code",
   "execution_count": null,
   "id": "a33ba1be",
   "metadata": {},
   "outputs": [],
   "source": []
  }
 ],
 "metadata": {
  "kernelspec": {
   "display_name": "Python 3 (ipykernel)",
   "language": "python",
   "name": "python3"
  },
  "language_info": {
   "codemirror_mode": {
    "name": "ipython",
    "version": 3
   },
   "file_extension": ".py",
   "mimetype": "text/x-python",
   "name": "python",
   "nbconvert_exporter": "python",
   "pygments_lexer": "ipython3",
   "version": "3.10.1"
  }
 },
 "nbformat": 4,
 "nbformat_minor": 5
}
