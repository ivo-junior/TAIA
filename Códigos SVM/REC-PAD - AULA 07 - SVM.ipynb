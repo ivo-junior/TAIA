{
 "cells": [
  {
   "cell_type": "code",
   "execution_count": 20,
   "metadata": {},
   "outputs": [],
   "source": [
    "import pandas as pd\n",
    "import numpy as np"
   ]
  },
  {
   "cell_type": "code",
   "execution_count": 21,
   "metadata": {},
   "outputs": [
    {
     "data": {
      "text/html": [
       "<div>\n",
       "<style scoped>\n",
       "    .dataframe tbody tr th:only-of-type {\n",
       "        vertical-align: middle;\n",
       "    }\n",
       "\n",
       "    .dataframe tbody tr th {\n",
       "        vertical-align: top;\n",
       "    }\n",
       "\n",
       "    .dataframe thead th {\n",
       "        text-align: right;\n",
       "    }\n",
       "</style>\n",
       "<table border=\"1\" class=\"dataframe\">\n",
       "  <thead>\n",
       "    <tr style=\"text-align: right;\">\n",
       "      <th></th>\n",
       "      <th>class</th>\n",
       "      <th>Alcohol</th>\n",
       "      <th>Malic acid</th>\n",
       "      <th>Ash</th>\n",
       "      <th>Alcalinity of ash</th>\n",
       "      <th>Magnesium</th>\n",
       "      <th>Total phenols</th>\n",
       "      <th>Flavanoids</th>\n",
       "      <th>Nonflavanoid phenols</th>\n",
       "      <th>Proanthocyanins</th>\n",
       "      <th>Color intensity</th>\n",
       "      <th>Hue</th>\n",
       "      <th>OD280/OD315 of diluted wines</th>\n",
       "      <th>Proline</th>\n",
       "    </tr>\n",
       "  </thead>\n",
       "  <tbody>\n",
       "    <tr>\n",
       "      <th>0</th>\n",
       "      <td>1</td>\n",
       "      <td>14.23</td>\n",
       "      <td>1.71</td>\n",
       "      <td>2.43</td>\n",
       "      <td>15.6</td>\n",
       "      <td>127</td>\n",
       "      <td>2.80</td>\n",
       "      <td>3.06</td>\n",
       "      <td>0.28</td>\n",
       "      <td>2.29</td>\n",
       "      <td>5.64</td>\n",
       "      <td>1.04</td>\n",
       "      <td>3.92</td>\n",
       "      <td>1065</td>\n",
       "    </tr>\n",
       "    <tr>\n",
       "      <th>1</th>\n",
       "      <td>1</td>\n",
       "      <td>13.20</td>\n",
       "      <td>1.78</td>\n",
       "      <td>2.14</td>\n",
       "      <td>11.2</td>\n",
       "      <td>100</td>\n",
       "      <td>2.65</td>\n",
       "      <td>2.76</td>\n",
       "      <td>0.26</td>\n",
       "      <td>1.28</td>\n",
       "      <td>4.38</td>\n",
       "      <td>1.05</td>\n",
       "      <td>3.40</td>\n",
       "      <td>1050</td>\n",
       "    </tr>\n",
       "    <tr>\n",
       "      <th>2</th>\n",
       "      <td>1</td>\n",
       "      <td>13.16</td>\n",
       "      <td>2.36</td>\n",
       "      <td>2.67</td>\n",
       "      <td>18.6</td>\n",
       "      <td>101</td>\n",
       "      <td>2.80</td>\n",
       "      <td>3.24</td>\n",
       "      <td>0.30</td>\n",
       "      <td>2.81</td>\n",
       "      <td>5.68</td>\n",
       "      <td>1.03</td>\n",
       "      <td>3.17</td>\n",
       "      <td>1185</td>\n",
       "    </tr>\n",
       "    <tr>\n",
       "      <th>3</th>\n",
       "      <td>1</td>\n",
       "      <td>14.37</td>\n",
       "      <td>1.95</td>\n",
       "      <td>2.50</td>\n",
       "      <td>16.8</td>\n",
       "      <td>113</td>\n",
       "      <td>3.85</td>\n",
       "      <td>3.49</td>\n",
       "      <td>0.24</td>\n",
       "      <td>2.18</td>\n",
       "      <td>7.80</td>\n",
       "      <td>0.86</td>\n",
       "      <td>3.45</td>\n",
       "      <td>1480</td>\n",
       "    </tr>\n",
       "    <tr>\n",
       "      <th>4</th>\n",
       "      <td>1</td>\n",
       "      <td>13.24</td>\n",
       "      <td>2.59</td>\n",
       "      <td>2.87</td>\n",
       "      <td>21.0</td>\n",
       "      <td>118</td>\n",
       "      <td>2.80</td>\n",
       "      <td>2.69</td>\n",
       "      <td>0.39</td>\n",
       "      <td>1.82</td>\n",
       "      <td>4.32</td>\n",
       "      <td>1.04</td>\n",
       "      <td>2.93</td>\n",
       "      <td>735</td>\n",
       "    </tr>\n",
       "    <tr>\n",
       "      <th>...</th>\n",
       "      <td>...</td>\n",
       "      <td>...</td>\n",
       "      <td>...</td>\n",
       "      <td>...</td>\n",
       "      <td>...</td>\n",
       "      <td>...</td>\n",
       "      <td>...</td>\n",
       "      <td>...</td>\n",
       "      <td>...</td>\n",
       "      <td>...</td>\n",
       "      <td>...</td>\n",
       "      <td>...</td>\n",
       "      <td>...</td>\n",
       "      <td>...</td>\n",
       "    </tr>\n",
       "    <tr>\n",
       "      <th>173</th>\n",
       "      <td>3</td>\n",
       "      <td>13.71</td>\n",
       "      <td>5.65</td>\n",
       "      <td>2.45</td>\n",
       "      <td>20.5</td>\n",
       "      <td>95</td>\n",
       "      <td>1.68</td>\n",
       "      <td>0.61</td>\n",
       "      <td>0.52</td>\n",
       "      <td>1.06</td>\n",
       "      <td>7.70</td>\n",
       "      <td>0.64</td>\n",
       "      <td>1.74</td>\n",
       "      <td>740</td>\n",
       "    </tr>\n",
       "    <tr>\n",
       "      <th>174</th>\n",
       "      <td>3</td>\n",
       "      <td>13.40</td>\n",
       "      <td>3.91</td>\n",
       "      <td>2.48</td>\n",
       "      <td>23.0</td>\n",
       "      <td>102</td>\n",
       "      <td>1.80</td>\n",
       "      <td>0.75</td>\n",
       "      <td>0.43</td>\n",
       "      <td>1.41</td>\n",
       "      <td>7.30</td>\n",
       "      <td>0.70</td>\n",
       "      <td>1.56</td>\n",
       "      <td>750</td>\n",
       "    </tr>\n",
       "    <tr>\n",
       "      <th>175</th>\n",
       "      <td>3</td>\n",
       "      <td>13.27</td>\n",
       "      <td>4.28</td>\n",
       "      <td>2.26</td>\n",
       "      <td>20.0</td>\n",
       "      <td>120</td>\n",
       "      <td>1.59</td>\n",
       "      <td>0.69</td>\n",
       "      <td>0.43</td>\n",
       "      <td>1.35</td>\n",
       "      <td>10.20</td>\n",
       "      <td>0.59</td>\n",
       "      <td>1.56</td>\n",
       "      <td>835</td>\n",
       "    </tr>\n",
       "    <tr>\n",
       "      <th>176</th>\n",
       "      <td>3</td>\n",
       "      <td>13.17</td>\n",
       "      <td>2.59</td>\n",
       "      <td>2.37</td>\n",
       "      <td>20.0</td>\n",
       "      <td>120</td>\n",
       "      <td>1.65</td>\n",
       "      <td>0.68</td>\n",
       "      <td>0.53</td>\n",
       "      <td>1.46</td>\n",
       "      <td>9.30</td>\n",
       "      <td>0.60</td>\n",
       "      <td>1.62</td>\n",
       "      <td>840</td>\n",
       "    </tr>\n",
       "    <tr>\n",
       "      <th>177</th>\n",
       "      <td>3</td>\n",
       "      <td>14.13</td>\n",
       "      <td>4.10</td>\n",
       "      <td>2.74</td>\n",
       "      <td>24.5</td>\n",
       "      <td>96</td>\n",
       "      <td>2.05</td>\n",
       "      <td>0.76</td>\n",
       "      <td>0.56</td>\n",
       "      <td>1.35</td>\n",
       "      <td>9.20</td>\n",
       "      <td>0.61</td>\n",
       "      <td>1.60</td>\n",
       "      <td>560</td>\n",
       "    </tr>\n",
       "  </tbody>\n",
       "</table>\n",
       "<p>178 rows × 14 columns</p>\n",
       "</div>"
      ],
      "text/plain": [
       "     class  Alcohol  Malic acid   Ash  Alcalinity of ash  Magnesium  \\\n",
       "0        1    14.23        1.71  2.43               15.6        127   \n",
       "1        1    13.20        1.78  2.14               11.2        100   \n",
       "2        1    13.16        2.36  2.67               18.6        101   \n",
       "3        1    14.37        1.95  2.50               16.8        113   \n",
       "4        1    13.24        2.59  2.87               21.0        118   \n",
       "..     ...      ...         ...   ...                ...        ...   \n",
       "173      3    13.71        5.65  2.45               20.5         95   \n",
       "174      3    13.40        3.91  2.48               23.0        102   \n",
       "175      3    13.27        4.28  2.26               20.0        120   \n",
       "176      3    13.17        2.59  2.37               20.0        120   \n",
       "177      3    14.13        4.10  2.74               24.5         96   \n",
       "\n",
       "     Total phenols  Flavanoids  Nonflavanoid phenols  Proanthocyanins  \\\n",
       "0             2.80        3.06                  0.28             2.29   \n",
       "1             2.65        2.76                  0.26             1.28   \n",
       "2             2.80        3.24                  0.30             2.81   \n",
       "3             3.85        3.49                  0.24             2.18   \n",
       "4             2.80        2.69                  0.39             1.82   \n",
       "..             ...         ...                   ...              ...   \n",
       "173           1.68        0.61                  0.52             1.06   \n",
       "174           1.80        0.75                  0.43             1.41   \n",
       "175           1.59        0.69                  0.43             1.35   \n",
       "176           1.65        0.68                  0.53             1.46   \n",
       "177           2.05        0.76                  0.56             1.35   \n",
       "\n",
       "     Color intensity   Hue  OD280/OD315 of diluted wines  Proline  \n",
       "0               5.64  1.04                          3.92     1065  \n",
       "1               4.38  1.05                          3.40     1050  \n",
       "2               5.68  1.03                          3.17     1185  \n",
       "3               7.80  0.86                          3.45     1480  \n",
       "4               4.32  1.04                          2.93      735  \n",
       "..               ...   ...                           ...      ...  \n",
       "173             7.70  0.64                          1.74      740  \n",
       "174             7.30  0.70                          1.56      750  \n",
       "175            10.20  0.59                          1.56      835  \n",
       "176             9.30  0.60                          1.62      840  \n",
       "177             9.20  0.61                          1.60      560  \n",
       "\n",
       "[178 rows x 14 columns]"
      ]
     },
     "execution_count": 21,
     "metadata": {},
     "output_type": "execute_result"
    }
   ],
   "source": [
    "wine = pd.read_csv('wine.csv')\n",
    "wine"
   ]
  },
  {
   "cell_type": "code",
   "execution_count": 22,
   "metadata": {},
   "outputs": [],
   "source": [
    "# import seaborn as sns\n",
    "# sns.pairplot(wine[list(wine.keys())], hue='class')"
   ]
  },
  {
   "cell_type": "markdown",
   "metadata": {},
   "source": [
    "# Utilizando SVM"
   ]
  },
  {
   "cell_type": "code",
   "execution_count": 23,
   "metadata": {},
   "outputs": [
    {
     "data": {
      "text/plain": [
       "3"
      ]
     },
     "execution_count": 23,
     "metadata": {},
     "output_type": "execute_result"
    }
   ],
   "source": [
    "X = wine.iloc[:,1:]\n",
    "y = wine.iloc[:, 0]\n",
    "\n",
    "X_teste = X.iloc[177]\n",
    "X = X.drop(177)\n",
    "y_teste = y.iloc[177]\n",
    "y = y.drop(177)\n",
    "\n",
    "y_teste"
   ]
  },
  {
   "cell_type": "code",
   "execution_count": 24,
   "metadata": {},
   "outputs": [
    {
     "name": "stdout",
     "output_type": "stream",
     "text": [
      "(13,)\n",
      "(1, 13)\n"
     ]
    }
   ],
   "source": [
    "print(X_teste.shape)\n",
    "print(np.array(X_teste).reshape(1,-1).shape)"
   ]
  },
  {
   "cell_type": "code",
   "execution_count": 25,
   "metadata": {},
   "outputs": [
    {
     "name": "stderr",
     "output_type": "stream",
     "text": [
      "C:\\Users\\jrivo\\AppData\\Local\\Programs\\Python\\Python310\\lib\\site-packages\\sklearn\\base.py:450: UserWarning: X does not have valid feature names, but SVC was fitted with feature names\n",
      "  warnings.warn(\n"
     ]
    },
    {
     "data": {
      "text/plain": [
       "array([2], dtype=int64)"
      ]
     },
     "execution_count": 25,
     "metadata": {},
     "output_type": "execute_result"
    }
   ],
   "source": [
    "from sklearn.svm import SVC\n",
    "\n",
    "svc = SVC(kernel='rbf')\n",
    "svc.fit(X, y)\n",
    "svc.predict(np.array(X_teste).reshape(1,-1))"
   ]
  },
  {
   "cell_type": "code",
   "execution_count": 26,
   "metadata": {},
   "outputs": [
    {
     "name": "stderr",
     "output_type": "stream",
     "text": [
      "C:\\Users\\jrivo\\AppData\\Local\\Programs\\Python\\Python310\\lib\\site-packages\\sklearn\\base.py:450: UserWarning: X does not have valid feature names, but SVC was fitted with feature names\n",
      "  warnings.warn(\n"
     ]
    },
    {
     "data": {
      "text/plain": [
       "array([3], dtype=int64)"
      ]
     },
     "execution_count": 26,
     "metadata": {},
     "output_type": "execute_result"
    }
   ],
   "source": [
    "svc = SVC(kernel='linear')\n",
    "svc.fit(X, y)\n",
    "svc.predict(np.array(X_teste).reshape(1,-1))"
   ]
  },
  {
   "cell_type": "code",
   "execution_count": 27,
   "metadata": {},
   "outputs": [
    {
     "name": "stderr",
     "output_type": "stream",
     "text": [
      "C:\\Users\\jrivo\\AppData\\Local\\Programs\\Python\\Python310\\lib\\site-packages\\sklearn\\base.py:450: UserWarning: X does not have valid feature names, but SVC was fitted with feature names\n",
      "  warnings.warn(\n"
     ]
    },
    {
     "data": {
      "text/plain": [
       "array([2], dtype=int64)"
      ]
     },
     "execution_count": 27,
     "metadata": {},
     "output_type": "execute_result"
    }
   ],
   "source": [
    "svc = SVC(kernel='poly')\n",
    "svc.fit(X, y)\n",
    "svc.predict(np.array(X_teste).reshape(1,-1))"
   ]
  },
  {
   "cell_type": "code",
   "execution_count": 28,
   "metadata": {},
   "outputs": [
    {
     "name": "stderr",
     "output_type": "stream",
     "text": [
      "C:\\Users\\jrivo\\AppData\\Local\\Programs\\Python\\Python310\\lib\\site-packages\\sklearn\\base.py:450: UserWarning: X does not have valid feature names, but SVC was fitted with feature names\n",
      "  warnings.warn(\n"
     ]
    },
    {
     "data": {
      "text/plain": [
       "array([1], dtype=int64)"
      ]
     },
     "execution_count": 28,
     "metadata": {},
     "output_type": "execute_result"
    }
   ],
   "source": [
    "svc = SVC(kernel='sigmoid')\n",
    "svc.fit(X, y)\n",
    "svc.predict(np.array(X_teste).reshape(1,-1))"
   ]
  },
  {
   "cell_type": "markdown",
   "metadata": {},
   "source": [
    "# De volta à base Iris"
   ]
  },
  {
   "cell_type": "code",
   "execution_count": 29,
   "metadata": {},
   "outputs": [
    {
     "data": {
      "text/html": [
       "<div>\n",
       "<style scoped>\n",
       "    .dataframe tbody tr th:only-of-type {\n",
       "        vertical-align: middle;\n",
       "    }\n",
       "\n",
       "    .dataframe tbody tr th {\n",
       "        vertical-align: top;\n",
       "    }\n",
       "\n",
       "    .dataframe thead th {\n",
       "        text-align: right;\n",
       "    }\n",
       "</style>\n",
       "<table border=\"1\" class=\"dataframe\">\n",
       "  <thead>\n",
       "    <tr style=\"text-align: right;\">\n",
       "      <th></th>\n",
       "      <th>sepal_length</th>\n",
       "      <th>sepal_width</th>\n",
       "      <th>petal_length</th>\n",
       "      <th>petal_width</th>\n",
       "      <th>class</th>\n",
       "    </tr>\n",
       "  </thead>\n",
       "  <tbody>\n",
       "    <tr>\n",
       "      <th>0</th>\n",
       "      <td>5.1</td>\n",
       "      <td>3.5</td>\n",
       "      <td>1.4</td>\n",
       "      <td>0.2</td>\n",
       "      <td>Iris-setosa</td>\n",
       "    </tr>\n",
       "    <tr>\n",
       "      <th>1</th>\n",
       "      <td>4.9</td>\n",
       "      <td>3.0</td>\n",
       "      <td>1.4</td>\n",
       "      <td>0.2</td>\n",
       "      <td>Iris-setosa</td>\n",
       "    </tr>\n",
       "    <tr>\n",
       "      <th>2</th>\n",
       "      <td>4.7</td>\n",
       "      <td>3.2</td>\n",
       "      <td>1.3</td>\n",
       "      <td>0.2</td>\n",
       "      <td>Iris-setosa</td>\n",
       "    </tr>\n",
       "    <tr>\n",
       "      <th>3</th>\n",
       "      <td>4.6</td>\n",
       "      <td>3.1</td>\n",
       "      <td>1.5</td>\n",
       "      <td>0.2</td>\n",
       "      <td>Iris-setosa</td>\n",
       "    </tr>\n",
       "    <tr>\n",
       "      <th>4</th>\n",
       "      <td>5.0</td>\n",
       "      <td>3.6</td>\n",
       "      <td>1.4</td>\n",
       "      <td>0.2</td>\n",
       "      <td>Iris-setosa</td>\n",
       "    </tr>\n",
       "    <tr>\n",
       "      <th>...</th>\n",
       "      <td>...</td>\n",
       "      <td>...</td>\n",
       "      <td>...</td>\n",
       "      <td>...</td>\n",
       "      <td>...</td>\n",
       "    </tr>\n",
       "    <tr>\n",
       "      <th>145</th>\n",
       "      <td>6.7</td>\n",
       "      <td>3.0</td>\n",
       "      <td>5.2</td>\n",
       "      <td>2.3</td>\n",
       "      <td>Iris-virginica</td>\n",
       "    </tr>\n",
       "    <tr>\n",
       "      <th>146</th>\n",
       "      <td>6.3</td>\n",
       "      <td>2.5</td>\n",
       "      <td>5.0</td>\n",
       "      <td>1.9</td>\n",
       "      <td>Iris-virginica</td>\n",
       "    </tr>\n",
       "    <tr>\n",
       "      <th>147</th>\n",
       "      <td>6.5</td>\n",
       "      <td>3.0</td>\n",
       "      <td>5.2</td>\n",
       "      <td>2.0</td>\n",
       "      <td>Iris-virginica</td>\n",
       "    </tr>\n",
       "    <tr>\n",
       "      <th>148</th>\n",
       "      <td>6.2</td>\n",
       "      <td>3.4</td>\n",
       "      <td>5.4</td>\n",
       "      <td>2.3</td>\n",
       "      <td>Iris-virginica</td>\n",
       "    </tr>\n",
       "    <tr>\n",
       "      <th>149</th>\n",
       "      <td>5.9</td>\n",
       "      <td>3.0</td>\n",
       "      <td>5.1</td>\n",
       "      <td>1.8</td>\n",
       "      <td>Iris-virginica</td>\n",
       "    </tr>\n",
       "  </tbody>\n",
       "</table>\n",
       "<p>150 rows × 5 columns</p>\n",
       "</div>"
      ],
      "text/plain": [
       "     sepal_length   sepal_width   petal_length   petal_width           class\n",
       "0             5.1           3.5            1.4           0.2     Iris-setosa\n",
       "1             4.9           3.0            1.4           0.2     Iris-setosa\n",
       "2             4.7           3.2            1.3           0.2     Iris-setosa\n",
       "3             4.6           3.1            1.5           0.2     Iris-setosa\n",
       "4             5.0           3.6            1.4           0.2     Iris-setosa\n",
       "..            ...           ...            ...           ...             ...\n",
       "145           6.7           3.0            5.2           2.3  Iris-virginica\n",
       "146           6.3           2.5            5.0           1.9  Iris-virginica\n",
       "147           6.5           3.0            5.2           2.0  Iris-virginica\n",
       "148           6.2           3.4            5.4           2.3  Iris-virginica\n",
       "149           5.9           3.0            5.1           1.8  Iris-virginica\n",
       "\n",
       "[150 rows x 5 columns]"
      ]
     },
     "execution_count": 29,
     "metadata": {},
     "output_type": "execute_result"
    }
   ],
   "source": [
    "iris = pd.read_csv('iris.csv')\n",
    "iris"
   ]
  },
  {
   "cell_type": "code",
   "execution_count": 30,
   "metadata": {},
   "outputs": [
    {
     "data": {
      "text/plain": [
       "['sepal_length', ' sepal_width', ' petal_length', ' petal_width', ' class']"
      ]
     },
     "execution_count": 30,
     "metadata": {},
     "output_type": "execute_result"
    }
   ],
   "source": [
    "list(iris.keys())"
   ]
  },
  {
   "cell_type": "code",
   "execution_count": 31,
   "metadata": {},
   "outputs": [],
   "source": [
    "# import seaborn as sns\n",
    "# sns.pairplot(iris[list(iris.keys())], hue=' class')"
   ]
  },
  {
   "cell_type": "code",
   "execution_count": 32,
   "metadata": {},
   "outputs": [
    {
     "name": "stdout",
     "output_type": "stream",
     "text": [
      "150 30\n",
      "120 30\n"
     ]
    }
   ],
   "source": [
    "X = iris.iloc[:,0:-1]\n",
    "y = iris.iloc[:, -1]\n",
    "\n",
    "# Vamos remover 20% do nosso conjunto de treinamento\n",
    "# E usar como teste do nosso modelo k-NN\n",
    "list_ids = list(range(len(y)))\n",
    "ids_test = list(np.random.choice(list_ids, int(len(list_ids)*0.2), replace=False))\n",
    "\n",
    "print(len(y), len(ids_test))\n",
    "X_teste = X.iloc[ids_test]\n",
    "X = X.drop(index=ids_test)\n",
    "y_teste = y.iloc[ids_test]\n",
    "y = y.drop(index=ids_test)\n",
    "print(len(y), len(y_teste))"
   ]
  },
  {
   "cell_type": "code",
   "execution_count": 33,
   "metadata": {},
   "outputs": [
    {
     "name": "stderr",
     "output_type": "stream",
     "text": [
      "C:\\Users\\jrivo\\AppData\\Local\\Programs\\Python\\Python310\\lib\\site-packages\\sklearn\\base.py:450: UserWarning: X does not have valid feature names, but SVC was fitted with feature names\n",
      "  warnings.warn(\n"
     ]
    },
    {
     "name": "stdout",
     "output_type": "stream",
     "text": [
      "Iris-versicolor\t\tIris-versicolor:    \tTrue\n",
      "Iris-setosa\t\tIris-setosa:    \tTrue\n",
      "Iris-versicolor\t\tIris-versicolor:    \tTrue\n",
      "Iris-setosa\t\tIris-setosa:    \tTrue\n",
      "Iris-setosa\t\tIris-setosa:    \tTrue\n",
      "Iris-setosa\t\tIris-setosa:    \tTrue\n",
      "Iris-virginica\t\tIris-versicolor:    \tFalse\n",
      "Iris-setosa\t\tIris-setosa:    \tTrue\n",
      "Iris-setosa\t\tIris-setosa:    \tTrue\n",
      "Iris-virginica\t\tIris-virginica:    \tTrue\n",
      "Iris-setosa\t\tIris-setosa:    \tTrue\n",
      "Iris-virginica\t\tIris-virginica:    \tTrue\n",
      "Iris-versicolor\t\tIris-versicolor:    \tTrue\n",
      "Iris-versicolor\t\tIris-versicolor:    \tTrue\n",
      "Iris-versicolor\t\tIris-virginica:    \tFalse\n",
      "Iris-virginica\t\tIris-virginica:    \tTrue\n",
      "Iris-setosa\t\tIris-setosa:    \tTrue\n",
      "Iris-setosa\t\tIris-setosa:    \tTrue\n",
      "Iris-setosa\t\tIris-setosa:    \tTrue\n",
      "Iris-versicolor\t\tIris-versicolor:    \tTrue\n",
      "Iris-virginica\t\tIris-virginica:    \tTrue\n",
      "Iris-versicolor\t\tIris-versicolor:    \tTrue\n",
      "Iris-setosa\t\tIris-setosa:    \tTrue\n",
      "Iris-virginica\t\tIris-virginica:    \tTrue\n",
      "Iris-setosa\t\tIris-setosa:    \tTrue\n",
      "Iris-setosa\t\tIris-setosa:    \tTrue\n",
      "Iris-setosa\t\tIris-setosa:    \tTrue\n",
      "Iris-setosa\t\tIris-setosa:    \tTrue\n",
      "Iris-versicolor\t\tIris-versicolor:    \tTrue\n",
      "Iris-versicolor\t\tIris-versicolor:    \tTrue\n",
      "Acurácia:  93.33333333333333 %\n",
      "==================\n",
      "0.9333333333333333\n"
     ]
    }
   ],
   "source": [
    "from sklearn.svm import SVC\n",
    "\n",
    "svc = SVC(kernel='rbf')\n",
    "svc.fit(X, y)\n",
    "preds = svc.predict(np.array(X_teste))\n",
    "for p, gt in zip(preds,y_teste):\n",
    "    print(f'{p}\\t\\t{gt}:    \\t{p==gt}')\n",
    "acertos = sum(preds == y_teste)\n",
    "print('Acurácia: ',acertos/len(y_teste)*100,'%')\n",
    "print('==================')\n",
    "\n",
    "print(svc.score(X_teste, y_teste))"
   ]
  },
  {
   "cell_type": "code",
   "execution_count": 34,
   "metadata": {},
   "outputs": [
    {
     "name": "stdout",
     "output_type": "stream",
     "text": [
      "Iris-versicolor\t\tIris-versicolor:    \tTrue\n",
      "Iris-setosa\t\tIris-setosa:    \tTrue\n",
      "Iris-versicolor\t\tIris-versicolor:    \tTrue\n",
      "Iris-setosa\t\tIris-setosa:    \tTrue\n",
      "Iris-setosa\t\tIris-setosa:    \tTrue\n",
      "Iris-setosa\t\tIris-setosa:    \tTrue\n",
      "Iris-virginica\t\tIris-versicolor:    \tFalse\n",
      "Iris-setosa\t\tIris-setosa:    \tTrue\n",
      "Iris-setosa\t\tIris-setosa:    \tTrue\n",
      "Iris-virginica\t\tIris-virginica:    \tTrue\n",
      "Iris-setosa\t\tIris-setosa:    \tTrue\n",
      "Iris-virginica\t\tIris-virginica:    \tTrue\n",
      "Iris-versicolor\t\tIris-versicolor:    \tTrue\n",
      "Iris-versicolor\t\tIris-versicolor:    \tTrue\n",
      "Iris-virginica\t\tIris-virginica:    \tTrue\n",
      "Iris-virginica\t\tIris-virginica:    \tTrue\n",
      "Iris-setosa\t\tIris-setosa:    \tTrue\n",
      "Iris-setosa\t\tIris-setosa:    \tTrue\n",
      "Iris-setosa\t\tIris-setosa:    \tTrue\n",
      "Iris-versicolor\t\tIris-versicolor:    \tTrue\n",
      "Iris-virginica\t\tIris-virginica:    \tTrue\n",
      "Iris-versicolor\t\tIris-versicolor:    \tTrue\n",
      "Iris-setosa\t\tIris-setosa:    \tTrue\n",
      "Iris-virginica\t\tIris-virginica:    \tTrue\n",
      "Iris-setosa\t\tIris-setosa:    \tTrue\n",
      "Iris-setosa\t\tIris-setosa:    \tTrue\n",
      "Iris-setosa\t\tIris-setosa:    \tTrue\n",
      "Iris-setosa\t\tIris-setosa:    \tTrue\n",
      "Iris-versicolor\t\tIris-versicolor:    \tTrue\n",
      "Iris-versicolor\t\tIris-versicolor:    \tTrue\n",
      "Acurácia:  96.66666666666667 %\n",
      "==================\n",
      "0.9666666666666667\n"
     ]
    },
    {
     "name": "stderr",
     "output_type": "stream",
     "text": [
      "C:\\Users\\jrivo\\AppData\\Local\\Programs\\Python\\Python310\\lib\\site-packages\\sklearn\\base.py:450: UserWarning: X does not have valid feature names, but SVC was fitted with feature names\n",
      "  warnings.warn(\n",
      "C:\\Users\\jrivo\\AppData\\Local\\Programs\\Python\\Python310\\lib\\site-packages\\sklearn\\base.py:450: UserWarning: X does not have valid feature names, but SVC was fitted with feature names\n",
      "  warnings.warn(\n"
     ]
    }
   ],
   "source": [
    "svc = SVC(kernel='linear')\n",
    "svc.fit(X, y)\n",
    "svc.predict(np.array(X_teste))\n",
    "preds = svc.predict(np.array(X_teste))\n",
    "for p, gt in zip(preds,y_teste):\n",
    "    print(f'{p}\\t\\t{gt}:    \\t{p==gt}')\n",
    "acertos = sum(preds == y_teste)\n",
    "print('Acurácia: ',acertos/len(y_teste)*100,'%')\n",
    "print('==================')\n",
    "\n",
    "print(svc.score(X_teste, y_teste))"
   ]
  },
  {
   "cell_type": "code",
   "execution_count": 35,
   "metadata": {},
   "outputs": [
    {
     "name": "stdout",
     "output_type": "stream",
     "text": [
      "Iris-versicolor\t\tIris-versicolor:    \tTrue\n",
      "Iris-setosa\t\tIris-setosa:    \tTrue\n",
      "Iris-versicolor\t\tIris-versicolor:    \tTrue\n",
      "Iris-setosa\t\tIris-setosa:    \tTrue\n",
      "Iris-setosa\t\tIris-setosa:    \tTrue\n",
      "Iris-setosa\t\tIris-setosa:    \tTrue\n",
      "Iris-virginica\t\tIris-versicolor:    \tFalse\n",
      "Iris-setosa\t\tIris-setosa:    \tTrue\n",
      "Iris-setosa\t\tIris-setosa:    \tTrue\n",
      "Iris-virginica\t\tIris-virginica:    \tTrue\n",
      "Iris-setosa\t\tIris-setosa:    \tTrue\n",
      "Iris-virginica\t\tIris-virginica:    \tTrue\n",
      "Iris-versicolor\t\tIris-versicolor:    \tTrue\n",
      "Iris-versicolor\t\tIris-versicolor:    \tTrue\n",
      "Iris-virginica\t\tIris-virginica:    \tTrue\n",
      "Iris-virginica\t\tIris-virginica:    \tTrue\n",
      "Iris-setosa\t\tIris-setosa:    \tTrue\n",
      "Iris-setosa\t\tIris-setosa:    \tTrue\n",
      "Iris-setosa\t\tIris-setosa:    \tTrue\n",
      "Iris-versicolor\t\tIris-versicolor:    \tTrue\n",
      "Iris-virginica\t\tIris-virginica:    \tTrue\n",
      "Iris-versicolor\t\tIris-versicolor:    \tTrue\n",
      "Iris-setosa\t\tIris-setosa:    \tTrue\n",
      "Iris-virginica\t\tIris-virginica:    \tTrue\n",
      "Iris-setosa\t\tIris-setosa:    \tTrue\n",
      "Iris-setosa\t\tIris-setosa:    \tTrue\n",
      "Iris-setosa\t\tIris-setosa:    \tTrue\n",
      "Iris-setosa\t\tIris-setosa:    \tTrue\n",
      "Iris-versicolor\t\tIris-versicolor:    \tTrue\n",
      "Iris-versicolor\t\tIris-versicolor:    \tTrue\n",
      "Acurácia:  96.66666666666667 %\n",
      "==================\n",
      "0.9666666666666667\n"
     ]
    },
    {
     "name": "stderr",
     "output_type": "stream",
     "text": [
      "C:\\Users\\jrivo\\AppData\\Local\\Programs\\Python\\Python310\\lib\\site-packages\\sklearn\\base.py:450: UserWarning: X does not have valid feature names, but SVC was fitted with feature names\n",
      "  warnings.warn(\n",
      "C:\\Users\\jrivo\\AppData\\Local\\Programs\\Python\\Python310\\lib\\site-packages\\sklearn\\base.py:450: UserWarning: X does not have valid feature names, but SVC was fitted with feature names\n",
      "  warnings.warn(\n"
     ]
    }
   ],
   "source": [
    "svc = SVC(kernel='poly')\n",
    "svc.fit(X, y)\n",
    "svc.predict(np.array(X_teste))\n",
    "preds = svc.predict(np.array(X_teste))\n",
    "for p, gt in zip(preds,y_teste):\n",
    "    print(f'{p}\\t\\t{gt}:    \\t{p==gt}')\n",
    "acertos = sum(preds == y_teste)\n",
    "print('Acurácia: ',acertos/len(y_teste)*100,'%')\n",
    "print('==================')\n",
    "\n",
    "print(svc.score(X_teste, y_teste))"
   ]
  },
  {
   "cell_type": "code",
   "execution_count": 36,
   "metadata": {},
   "outputs": [
    {
     "name": "stdout",
     "output_type": "stream",
     "text": [
      "Iris-virginica\t\tIris-versicolor:    \tFalse\n",
      "Iris-virginica\t\tIris-setosa:    \tFalse\n",
      "Iris-virginica\t\tIris-versicolor:    \tFalse\n",
      "Iris-virginica\t\tIris-setosa:    \tFalse\n",
      "Iris-virginica\t\tIris-setosa:    \tFalse\n",
      "Iris-virginica\t\tIris-setosa:    \tFalse\n",
      "Iris-virginica\t\tIris-versicolor:    \tFalse\n",
      "Iris-virginica\t\tIris-setosa:    \tFalse\n",
      "Iris-virginica\t\tIris-setosa:    \tFalse\n",
      "Iris-virginica\t\tIris-virginica:    \tTrue\n",
      "Iris-virginica\t\tIris-setosa:    \tFalse\n",
      "Iris-virginica\t\tIris-virginica:    \tTrue\n",
      "Iris-virginica\t\tIris-versicolor:    \tFalse\n",
      "Iris-virginica\t\tIris-versicolor:    \tFalse\n",
      "Iris-virginica\t\tIris-virginica:    \tTrue\n",
      "Iris-virginica\t\tIris-virginica:    \tTrue\n",
      "Iris-virginica\t\tIris-setosa:    \tFalse\n",
      "Iris-virginica\t\tIris-setosa:    \tFalse\n",
      "Iris-virginica\t\tIris-setosa:    \tFalse\n",
      "Iris-virginica\t\tIris-versicolor:    \tFalse\n",
      "Iris-virginica\t\tIris-virginica:    \tTrue\n",
      "Iris-virginica\t\tIris-versicolor:    \tFalse\n",
      "Iris-virginica\t\tIris-setosa:    \tFalse\n",
      "Iris-virginica\t\tIris-virginica:    \tTrue\n",
      "Iris-virginica\t\tIris-setosa:    \tFalse\n",
      "Iris-virginica\t\tIris-setosa:    \tFalse\n",
      "Iris-virginica\t\tIris-setosa:    \tFalse\n",
      "Iris-virginica\t\tIris-setosa:    \tFalse\n",
      "Iris-virginica\t\tIris-versicolor:    \tFalse\n",
      "Iris-virginica\t\tIris-versicolor:    \tFalse\n",
      "Acurácia:  20.0 %\n",
      "==================\n",
      "0.2\n"
     ]
    },
    {
     "name": "stderr",
     "output_type": "stream",
     "text": [
      "C:\\Users\\jrivo\\AppData\\Local\\Programs\\Python\\Python310\\lib\\site-packages\\sklearn\\base.py:450: UserWarning: X does not have valid feature names, but SVC was fitted with feature names\n",
      "  warnings.warn(\n",
      "C:\\Users\\jrivo\\AppData\\Local\\Programs\\Python\\Python310\\lib\\site-packages\\sklearn\\base.py:450: UserWarning: X does not have valid feature names, but SVC was fitted with feature names\n",
      "  warnings.warn(\n"
     ]
    }
   ],
   "source": [
    "svc = SVC(kernel='sigmoid')\n",
    "svc.fit(X, y)\n",
    "svc.predict(np.array(X_teste))\n",
    "preds = svc.predict(np.array(X_teste))\n",
    "for p, gt in zip(preds,y_teste):\n",
    "    print(f'{p}\\t\\t{gt}:    \\t{p==gt}')\n",
    "acertos = sum(preds == y_teste)\n",
    "print('Acurácia: ',acertos/len(y_teste)*100,'%')\n",
    "print('==================')\n",
    "\n",
    "print(svc.score(X_teste, y_teste))"
   ]
  },
  {
   "cell_type": "code",
   "execution_count": null,
   "metadata": {},
   "outputs": [],
   "source": []
  }
 ],
 "metadata": {
  "kernelspec": {
   "display_name": "Python 3 (ipykernel)",
   "language": "python",
   "name": "python3"
  },
  "language_info": {
   "codemirror_mode": {
    "name": "ipython",
    "version": 3
   },
   "file_extension": ".py",
   "mimetype": "text/x-python",
   "name": "python",
   "nbconvert_exporter": "python",
   "pygments_lexer": "ipython3",
   "version": "3.10.1"
  }
 },
 "nbformat": 4,
 "nbformat_minor": 4
}
