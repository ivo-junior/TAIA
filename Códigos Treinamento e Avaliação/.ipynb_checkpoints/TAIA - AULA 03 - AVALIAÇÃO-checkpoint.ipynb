{
 "cells": [
  {
   "cell_type": "code",
   "execution_count": null,
   "metadata": {},
   "outputs": [],
   "source": [
    "import pandas as pd\n",
    "import numpy as np"
   ]
  },
  {
   "cell_type": "code",
   "execution_count": null,
   "metadata": {},
   "outputs": [],
   "source": [
    "wine = pd.read_csv('wine.csv')\n",
    "wine"
   ]
  },
  {
   "cell_type": "code",
   "execution_count": null,
   "metadata": {},
   "outputs": [],
   "source": [
    "X = wine.iloc[:,1:]\n",
    "y = wine.iloc[:,0]\n",
    "y"
   ]
  },
  {
   "cell_type": "markdown",
   "metadata": {},
   "source": [
    "# Holdout"
   ]
  },
  {
   "cell_type": "code",
   "execution_count": null,
   "metadata": {},
   "outputs": [],
   "source": [
    "from sklearn.model_selection import train_test_split\n",
    "\n",
    "X_treino, X_teste, y_treino, y_teste = train_test_split(X, y, test_size=0.3, random_state=42)\n",
    "y_treino"
   ]
  },
  {
   "cell_type": "code",
   "execution_count": null,
   "metadata": {},
   "outputs": [],
   "source": [
    "from sklearn.neural_network import MLPClassifier\n",
    "\n",
    "mlp = MLPClassifier(activation=\"relu\", hidden_layer_sizes=(10,))\n",
    "mlp.fit(X_treino, y_treino)\n",
    "mlp.predict(X_teste)"
   ]
  },
  {
   "cell_type": "markdown",
   "metadata": {},
   "source": [
    "# K-fold"
   ]
  },
  {
   "cell_type": "code",
   "execution_count": null,
   "metadata": {},
   "outputs": [],
   "source": [
    "from sklearn.model_selection import KFold\n",
    "\n",
    "resultados = []\n",
    "kf = KFold(n_splits=10, shuffle=True)\n",
    "for index_treino, index_teste in kf.split(X):\n",
    "    #X_treino, X_teste = X[index_treino], X[index_teste]\n",
    "    #y_treino, y_teste = y[index_treino], y[index_teste]\n",
    "    X_treino, X_teste = X.iloc[index_treino], X.iloc[index_teste]\n",
    "    y_treino, y_teste = y.iloc[index_treino], y.iloc[index_teste]\n",
    "    mlp.fit(X_treino, y_treino)\n",
    "    resultados.append(mlp.predict(X_teste))\n",
    "resultados"
   ]
  },
  {
   "cell_type": "markdown",
   "metadata": {},
   "source": [
    "# Métricas"
   ]
  },
  {
   "cell_type": "code",
   "execution_count": null,
   "metadata": {},
   "outputs": [],
   "source": [
    "X_treino, X_teste, y_treino, y_teste = train_test_split(X, y, test_size=0.3, random_state=42)\n",
    "\n",
    "mlp = MLPClassifier(activation=\"relu\", hidden_layer_sizes=(10,))\n",
    "mlp.fit(X_treino, y_treino)\n",
    "mlp.score(X_teste, y_teste)"
   ]
  },
  {
   "cell_type": "code",
   "execution_count": null,
   "metadata": {},
   "outputs": [],
   "source": [
    "from sklearn.metrics import precision_score, recall_score, f1_score\n",
    "\n",
    "y_pred = mlp.predict(X_teste)\n",
    "\n",
    "precision_score(y_teste, y_pred, average='macro')"
   ]
  },
  {
   "cell_type": "code",
   "execution_count": null,
   "metadata": {},
   "outputs": [],
   "source": [
    "recall_score(y_teste, y_pred, average='macro')"
   ]
  },
  {
   "cell_type": "code",
   "execution_count": null,
   "metadata": {},
   "outputs": [],
   "source": [
    "f1_score(y_teste, y_pred, average='macro')"
   ]
  },
  {
   "cell_type": "markdown",
   "metadata": {},
   "source": [
    "# Estimação dos parâmetros (kNN, SVM, MLP)"
   ]
  },
  {
   "cell_type": "markdown",
   "metadata": {},
   "source": [
    "## kNN"
   ]
  },
  {
   "cell_type": "code",
   "execution_count": null,
   "metadata": {},
   "outputs": [],
   "source": [
    "from sklearn.neighbors import KNeighborsClassifier\n",
    "\n",
    "X_treino, X_teste, y_treino, y_teste = train_test_split(X, y, test_size=0.3, random_state=42)\n",
    "\n",
    "valores_k = [1, 2, 3, 4, 5, 6, 7, 8, 9, 10, 11, 12, 13, 14, 15] #list(range(1,16))\n",
    "resultados_knn = []\n",
    "\n",
    "for k in valores_k:\n",
    "    resultados_k = []\n",
    "    knn = KNeighborsClassifier(n_neighbors=k)\n",
    "    kf = KFold(n_splits=10, shuffle=True)\n",
    "    for index_train, index_valid in kf.split(X_treino):\n",
    "        X_train, X_validacao = X_treino.iloc[index_train], X_treino.iloc[index_valid]\n",
    "        y_train, y_validacao = y_treino.iloc[index_train], y_treino.iloc[index_valid]\n",
    "        knn.fit(X_train, y_train)\n",
    "        resultados_k.append(knn.score(X_validacao, y_validacao))\n",
    "    resultados_knn.append(sum(resultados_k)/len(resultados_k))\n",
    "resultados_knn"
   ]
  },
  {
   "cell_type": "code",
   "execution_count": null,
   "metadata": {},
   "outputs": [],
   "source": [
    "import matplotlib.pyplot as plt\n",
    "\n",
    "plt.figure(figsize=(12,10))\n",
    "plt.plot(resultados_knn, label='Acc% - K-Fold')\n",
    "plt.legend()\n",
    "plt.show()"
   ]
  },
  {
   "cell_type": "code",
   "execution_count": null,
   "metadata": {},
   "outputs": [],
   "source": [
    "knn = KNeighborsClassifier(n_neighbors=7)\n",
    "knn.fit(X_treino, y_treino)\n",
    "knn.score(X_teste, y_teste)"
   ]
  },
  {
   "cell_type": "code",
   "execution_count": null,
   "metadata": {},
   "outputs": [],
   "source": [
    "from sklearn.metrics import precision_score, recall_score, f1_score\n",
    "y_pred = knn.predict(X_teste)\n",
    "\n",
    "precision_score(y_teste, y_pred, average='macro')"
   ]
  },
  {
   "cell_type": "code",
   "execution_count": null,
   "metadata": {},
   "outputs": [],
   "source": [
    "recall_score(y_teste, y_pred, average='macro')"
   ]
  },
  {
   "cell_type": "code",
   "execution_count": null,
   "metadata": {},
   "outputs": [],
   "source": [
    "f1_score(y_teste, y_pred, average='macro')"
   ]
  },
  {
   "cell_type": "markdown",
   "metadata": {},
   "source": [
    "### SVM"
   ]
  },
  {
   "cell_type": "code",
   "execution_count": null,
   "metadata": {},
   "outputs": [],
   "source": [
    "from sklearn.svm import SVC\n",
    "valores_kernel = [\"linear\", \"poly\", \"rbf\", \"sigmoid\"]\n",
    "resultados_svm = []\n",
    "\n",
    "for kernel in valores_kernel:\n",
    "    resultados_kernel = []\n",
    "    svc = SVC(kernel=kernel)\n",
    "    kf = KFold(n_splits=10, shuffle=True)\n",
    "    for index_train, index_valid in kf.split(X_treino):\n",
    "        X_train, X_validacao = X_treino.iloc[index_train], X_treino.iloc[index_valid]\n",
    "        y_train, y_validacao = y_treino.iloc[index_train], y_treino.iloc[index_valid]\n",
    "        svc.fit(X_train, y_train)\n",
    "        resultados_kernel.append(svc.score(X_validacao, y_validacao))\n",
    "    resultados_svm.append(sum(resultados_kernel)/len(resultados_kernel))\n",
    "resultados_svm"
   ]
  },
  {
   "cell_type": "code",
   "execution_count": null,
   "metadata": {},
   "outputs": [],
   "source": [
    "import matplotlib.pyplot as plt\n",
    "\n",
    "plt.figure(figsize=(12,10))\n",
    "plt.plot(resultados_svm, label='Acc% - K-Fold')\n",
    "plt.legend()\n",
    "plt.show()"
   ]
  },
  {
   "cell_type": "code",
   "execution_count": null,
   "metadata": {},
   "outputs": [],
   "source": [
    "svc = SVC(kernel=\"linear\")\n",
    "svc.fit(X_treino, y_treino)\n",
    "svc.score(X_teste, y_teste)"
   ]
  },
  {
   "cell_type": "code",
   "execution_count": null,
   "metadata": {},
   "outputs": [],
   "source": [
    "y_pred = svc.predict(X_teste)\n",
    "\n",
    "ps = precision_score(y_teste, y_pred, average='macro')\n",
    "rs = recall_score(y_teste, y_pred, average='macro')\n",
    "f1 = f1_score(y_teste, y_pred, average='macro')\n",
    "print(f'Precision: {ps} \\t Recall: {rs} \\t F1: {f1}')"
   ]
  },
  {
   "cell_type": "markdown",
   "metadata": {},
   "source": [
    "### Redes Neurais"
   ]
  },
  {
   "cell_type": "code",
   "execution_count": null,
   "metadata": {},
   "outputs": [],
   "source": [
    "from sklearn.neural_network import MLPClassifier\n",
    "valores_ativacao = [\"identity\", \"logistic\", \"tanh\", \"relu\"]\n",
    "resultados_mlp = []\n",
    "\n",
    "for ativacao in valores_ativacao:\n",
    "    resultados_ativacao = []\n",
    "    mlp = MLPClassifier(activation=ativacao)\n",
    "    kf = KFold(n_splits=10, shuffle=True)\n",
    "    for index_train, index_valid in kf.split(X_treino):\n",
    "        X_train, X_validacao = X_treino.iloc[index_train], X_treino.iloc[index_valid]\n",
    "        y_train, y_validacao = y_treino.iloc[index_train], y_treino.iloc[index_valid]\n",
    "        mlp.fit(X_train, y_train)\n",
    "        resultados_ativacao.append(svc.score(X_validacao, y_validacao))\n",
    "    resultados_mlp.append(sum(resultados_ativacao)/len(resultados_ativacao))\n",
    "resultados_mlp"
   ]
  },
  {
   "cell_type": "code",
   "execution_count": null,
   "metadata": {},
   "outputs": [],
   "source": [
    "import matplotlib.pyplot as plt\n",
    "\n",
    "plt.figure(figsize=(12,10))\n",
    "plt.plot(resultados_mlp, label='Acc% - K-Fold')\n",
    "plt.legend()\n",
    "plt.show()"
   ]
  },
  {
   "cell_type": "code",
   "execution_count": null,
   "metadata": {},
   "outputs": [],
   "source": [
    "mlp = MLPClassifier(activation=\"identity\")\n",
    "mlp.fit(X_treino, y_treino)\n",
    "mlp.score(X_teste, y_teste)"
   ]
  },
  {
   "cell_type": "code",
   "execution_count": null,
   "metadata": {},
   "outputs": [],
   "source": [
    "y_pred = svc.predict(X_teste)\n",
    "\n",
    "ps = precision_score(y_teste, y_pred, average='macro')\n",
    "rs = recall_score(y_teste, y_pred, average='macro')\n",
    "f1 = f1_score(y_teste, y_pred, average='macro')\n",
    "print(f'Precision: {ps} \\t Recall: {rs} \\t F1: {f1}')"
   ]
  }
 ],
 "metadata": {
  "kernelspec": {
   "display_name": "Python 3",
   "language": "python",
   "name": "python3"
  },
  "language_info": {
   "codemirror_mode": {
    "name": "ipython",
    "version": 3
   },
   "file_extension": ".py",
   "mimetype": "text/x-python",
   "name": "python",
   "nbconvert_exporter": "python",
   "pygments_lexer": "ipython3",
   "version": "3.8.8"
  }
 },
 "nbformat": 4,
 "nbformat_minor": 4
}
