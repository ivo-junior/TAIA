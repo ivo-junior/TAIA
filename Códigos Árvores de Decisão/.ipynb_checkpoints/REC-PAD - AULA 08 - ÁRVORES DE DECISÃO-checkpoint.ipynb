{
 "cells": [
  {
   "cell_type": "code",
   "execution_count": 5,
   "metadata": {},
   "outputs": [],
   "source": [
    "import pandas as pd\n",
    "import numpy as np"
   ]
  },
  {
   "cell_type": "code",
   "execution_count": 6,
   "metadata": {},
   "outputs": [
    {
     "data": {
      "text/html": [
       "<div>\n",
       "<style scoped>\n",
       "    .dataframe tbody tr th:only-of-type {\n",
       "        vertical-align: middle;\n",
       "    }\n",
       "\n",
       "    .dataframe tbody tr th {\n",
       "        vertical-align: top;\n",
       "    }\n",
       "\n",
       "    .dataframe thead th {\n",
       "        text-align: right;\n",
       "    }\n",
       "</style>\n",
       "<table border=\"1\" class=\"dataframe\">\n",
       "  <thead>\n",
       "    <tr style=\"text-align: right;\">\n",
       "      <th></th>\n",
       "      <th>sepal_length</th>\n",
       "      <th>sepal_width</th>\n",
       "      <th>petal_length</th>\n",
       "      <th>petal_width</th>\n",
       "      <th>class</th>\n",
       "    </tr>\n",
       "  </thead>\n",
       "  <tbody>\n",
       "    <tr>\n",
       "      <th>0</th>\n",
       "      <td>5.1</td>\n",
       "      <td>3.5</td>\n",
       "      <td>1.4</td>\n",
       "      <td>0.2</td>\n",
       "      <td>Iris-setosa</td>\n",
       "    </tr>\n",
       "    <tr>\n",
       "      <th>1</th>\n",
       "      <td>4.9</td>\n",
       "      <td>3.0</td>\n",
       "      <td>1.4</td>\n",
       "      <td>0.2</td>\n",
       "      <td>Iris-setosa</td>\n",
       "    </tr>\n",
       "    <tr>\n",
       "      <th>2</th>\n",
       "      <td>4.7</td>\n",
       "      <td>3.2</td>\n",
       "      <td>1.3</td>\n",
       "      <td>0.2</td>\n",
       "      <td>Iris-setosa</td>\n",
       "    </tr>\n",
       "    <tr>\n",
       "      <th>3</th>\n",
       "      <td>4.6</td>\n",
       "      <td>3.1</td>\n",
       "      <td>1.5</td>\n",
       "      <td>0.2</td>\n",
       "      <td>Iris-setosa</td>\n",
       "    </tr>\n",
       "    <tr>\n",
       "      <th>4</th>\n",
       "      <td>5.0</td>\n",
       "      <td>3.6</td>\n",
       "      <td>1.4</td>\n",
       "      <td>0.2</td>\n",
       "      <td>Iris-setosa</td>\n",
       "    </tr>\n",
       "    <tr>\n",
       "      <th>...</th>\n",
       "      <td>...</td>\n",
       "      <td>...</td>\n",
       "      <td>...</td>\n",
       "      <td>...</td>\n",
       "      <td>...</td>\n",
       "    </tr>\n",
       "    <tr>\n",
       "      <th>145</th>\n",
       "      <td>6.7</td>\n",
       "      <td>3.0</td>\n",
       "      <td>5.2</td>\n",
       "      <td>2.3</td>\n",
       "      <td>Iris-virginica</td>\n",
       "    </tr>\n",
       "    <tr>\n",
       "      <th>146</th>\n",
       "      <td>6.3</td>\n",
       "      <td>2.5</td>\n",
       "      <td>5.0</td>\n",
       "      <td>1.9</td>\n",
       "      <td>Iris-virginica</td>\n",
       "    </tr>\n",
       "    <tr>\n",
       "      <th>147</th>\n",
       "      <td>6.5</td>\n",
       "      <td>3.0</td>\n",
       "      <td>5.2</td>\n",
       "      <td>2.0</td>\n",
       "      <td>Iris-virginica</td>\n",
       "    </tr>\n",
       "    <tr>\n",
       "      <th>148</th>\n",
       "      <td>6.2</td>\n",
       "      <td>3.4</td>\n",
       "      <td>5.4</td>\n",
       "      <td>2.3</td>\n",
       "      <td>Iris-virginica</td>\n",
       "    </tr>\n",
       "    <tr>\n",
       "      <th>149</th>\n",
       "      <td>5.9</td>\n",
       "      <td>3.0</td>\n",
       "      <td>5.1</td>\n",
       "      <td>1.8</td>\n",
       "      <td>Iris-virginica</td>\n",
       "    </tr>\n",
       "  </tbody>\n",
       "</table>\n",
       "<p>150 rows × 5 columns</p>\n",
       "</div>"
      ],
      "text/plain": [
       "     sepal_length   sepal_width   petal_length   petal_width           class\n",
       "0             5.1           3.5            1.4           0.2     Iris-setosa\n",
       "1             4.9           3.0            1.4           0.2     Iris-setosa\n",
       "2             4.7           3.2            1.3           0.2     Iris-setosa\n",
       "3             4.6           3.1            1.5           0.2     Iris-setosa\n",
       "4             5.0           3.6            1.4           0.2     Iris-setosa\n",
       "..            ...           ...            ...           ...             ...\n",
       "145           6.7           3.0            5.2           2.3  Iris-virginica\n",
       "146           6.3           2.5            5.0           1.9  Iris-virginica\n",
       "147           6.5           3.0            5.2           2.0  Iris-virginica\n",
       "148           6.2           3.4            5.4           2.3  Iris-virginica\n",
       "149           5.9           3.0            5.1           1.8  Iris-virginica\n",
       "\n",
       "[150 rows x 5 columns]"
      ]
     },
     "execution_count": 6,
     "metadata": {},
     "output_type": "execute_result"
    }
   ],
   "source": [
    "iris = pd.read_csv('iris.csv')\n",
    "iris"
   ]
  },
  {
   "cell_type": "markdown",
   "metadata": {},
   "source": [
    "# Utilizando Árvore de Decisão"
   ]
  },
  {
   "cell_type": "code",
   "execution_count": 7,
   "metadata": {},
   "outputs": [
    {
     "name": "stdout",
     "output_type": "stream",
     "text": [
      "150 30\n",
      "120 30\n"
     ]
    }
   ],
   "source": [
    "X = iris.iloc[:,:4]\n",
    "y = iris.iloc[:, 4]\n",
    "\n",
    "# Vamos remover 20% do nosso conjunto de treinamento\n",
    "# E usar como teste do nosso modelo k-NN\n",
    "list_ids = list(range(len(y)))\n",
    "ids_test = list(np.random.choice(list_ids, int(len(list_ids)*0.2), replace=False))\n",
    "\n",
    "print(len(y), len(ids_test))\n",
    "X_teste = X.iloc[ids_test]\n",
    "X = X.drop(index=ids_test)\n",
    "y_teste = y.iloc[ids_test]\n",
    "y = y.drop(index=ids_test)\n",
    "print(len(y), len(y_teste))"
   ]
  },
  {
   "cell_type": "code",
   "execution_count": 11,
   "metadata": {
    "scrolled": true
   },
   "outputs": [
    {
     "name": "stdout",
     "output_type": "stream",
     "text": [
      "Iris-versicolor\t\tIris-versicolor:    \tTrue\n",
      "Iris-setosa\t\tIris-setosa:    \tTrue\n",
      "Iris-versicolor\t\tIris-versicolor:    \tTrue\n",
      "Iris-virginica\t\tIris-versicolor:    \tFalse\n",
      "Iris-versicolor\t\tIris-versicolor:    \tTrue\n",
      "Iris-virginica\t\tIris-virginica:    \tTrue\n",
      "Iris-virginica\t\tIris-virginica:    \tTrue\n",
      "Iris-virginica\t\tIris-virginica:    \tTrue\n",
      "Iris-virginica\t\tIris-virginica:    \tTrue\n",
      "Iris-versicolor\t\tIris-versicolor:    \tTrue\n",
      "Iris-versicolor\t\tIris-versicolor:    \tTrue\n",
      "Iris-versicolor\t\tIris-versicolor:    \tTrue\n",
      "Iris-virginica\t\tIris-virginica:    \tTrue\n",
      "Iris-virginica\t\tIris-virginica:    \tTrue\n",
      "Iris-setosa\t\tIris-setosa:    \tTrue\n",
      "Iris-virginica\t\tIris-virginica:    \tTrue\n",
      "Iris-versicolor\t\tIris-versicolor:    \tTrue\n",
      "Iris-setosa\t\tIris-setosa:    \tTrue\n",
      "Iris-virginica\t\tIris-virginica:    \tTrue\n",
      "Iris-versicolor\t\tIris-versicolor:    \tTrue\n",
      "Iris-setosa\t\tIris-setosa:    \tTrue\n",
      "Iris-setosa\t\tIris-setosa:    \tTrue\n",
      "Iris-setosa\t\tIris-setosa:    \tTrue\n",
      "Iris-virginica\t\tIris-virginica:    \tTrue\n",
      "Iris-virginica\t\tIris-virginica:    \tTrue\n",
      "Iris-versicolor\t\tIris-versicolor:    \tTrue\n",
      "Iris-setosa\t\tIris-setosa:    \tTrue\n",
      "Iris-virginica\t\tIris-virginica:    \tTrue\n",
      "Iris-virginica\t\tIris-virginica:    \tTrue\n",
      "Iris-setosa\t\tIris-setosa:    \tTrue\n",
      "Resultado:  96.66666666666667 %\n",
      "==================\n",
      "0.9666666666666667\n"
     ]
    }
   ],
   "source": [
    "from sklearn.tree import DecisionTreeClassifier\n",
    "\n",
    "arvore = DecisionTreeClassifier(criterion=\"entropy\")\n",
    "arvore.fit(X, y)\n",
    "preds = arvore.predict(np.array(X_teste))\n",
    "for p, gt in zip(preds,y_teste):\n",
    "    print(f'{p}\\t\\t{gt}:    \\t{p==gt}')\n",
    "acertos = sum(preds == y_teste)\n",
    "print('Resultado: ',acertos/len(y_teste)*100,'%')\n",
    "print('==================')\n",
    "\n",
    "print(arvore.score(X_teste, y_teste))"
   ]
  },
  {
   "cell_type": "code",
   "execution_count": 12,
   "metadata": {},
   "outputs": [],
   "source": [
    "from sklearn.tree import export_text\n",
    "tree_rules = export_text(arvore, feature_names=list(X.columns))"
   ]
  },
  {
   "cell_type": "code",
   "execution_count": 13,
   "metadata": {},
   "outputs": [
    {
     "name": "stdout",
     "output_type": "stream",
     "text": [
      "|---  petal_width <= 0.80\n",
      "|   |--- class: Iris-setosa\n",
      "|---  petal_width >  0.80\n",
      "|   |---  petal_width <= 1.65\n",
      "|   |   |---  petal_length <= 4.95\n",
      "|   |   |   |--- class: Iris-versicolor\n",
      "|   |   |---  petal_length >  4.95\n",
      "|   |   |   |---  petal_width <= 1.55\n",
      "|   |   |   |   |--- class: Iris-virginica\n",
      "|   |   |   |---  petal_width >  1.55\n",
      "|   |   |   |   |--- sepal_length <= 6.60\n",
      "|   |   |   |   |   |--- class: Iris-versicolor\n",
      "|   |   |   |   |--- sepal_length >  6.60\n",
      "|   |   |   |   |   |--- class: Iris-virginica\n",
      "|   |---  petal_width >  1.65\n",
      "|   |   |---  petal_length <= 4.85\n",
      "|   |   |   |---  sepal_width <= 3.00\n",
      "|   |   |   |   |--- class: Iris-virginica\n",
      "|   |   |   |---  sepal_width >  3.00\n",
      "|   |   |   |   |--- class: Iris-versicolor\n",
      "|   |   |---  petal_length >  4.85\n",
      "|   |   |   |--- class: Iris-virginica\n",
      "\n"
     ]
    }
   ],
   "source": [
    "print(tree_rules)"
   ]
  },
  {
   "cell_type": "code",
   "execution_count": 14,
   "metadata": {},
   "outputs": [
    {
     "data": {
      "text/plain": [
       "0         Iris-setosa\n",
       "1         Iris-setosa\n",
       "2         Iris-setosa\n",
       "3         Iris-setosa\n",
       "4         Iris-setosa\n",
       "            ...      \n",
       "145    Iris-virginica\n",
       "146    Iris-virginica\n",
       "147    Iris-virginica\n",
       "148    Iris-virginica\n",
       "149    Iris-virginica\n",
       "Name:  class, Length: 120, dtype: object"
      ]
     },
     "execution_count": 14,
     "metadata": {},
     "output_type": "execute_result"
    }
   ],
   "source": [
    "y"
   ]
  },
  {
   "cell_type": "code",
   "execution_count": 15,
   "metadata": {},
   "outputs": [
    {
     "data": {
      "text/plain": [
       "array(['Iris-setosa', 'Iris-versicolor', 'Iris-virginica'], dtype=object)"
      ]
     },
     "execution_count": 15,
     "metadata": {},
     "output_type": "execute_result"
    }
   ],
   "source": [
    "np.unique(np.array(y))"
   ]
  },
  {
   "cell_type": "code",
   "execution_count": null,
   "metadata": {},
   "outputs": [],
   "source": [
    "import matplotlib.pyplot as plt\n",
    "from sklearn import tree\n",
    "fig = plt.figure(figsize=(25,20))\n",
    "_ = tree.plot_tree(arvore, \n",
    "                   feature_names=X.columns,  \n",
    "                   class_names=np.unique(np.array(y)),\n",
    "                   filled=True)\n",
    "iris = iris.dropna()"
   ]
  },
  {
   "cell_type": "code",
   "execution_count": 10,
   "metadata": {},
   "outputs": [
    {
     "name": "stdout",
     "output_type": "stream",
     "text": [
      "Iris-virginica\t\tIris-versicolor:    \tFalse\n",
      "Iris-versicolor\t\tIris-versicolor:    \tTrue\n",
      "Iris-virginica\t\tIris-virginica:    \tTrue\n",
      "Iris-versicolor\t\tIris-versicolor:    \tTrue\n",
      "Iris-virginica\t\tIris-virginica:    \tTrue\n",
      "Iris-virginica\t\tIris-virginica:    \tTrue\n",
      "Iris-virginica\t\tIris-virginica:    \tTrue\n",
      "Iris-virginica\t\tIris-virginica:    \tTrue\n",
      "Iris-setosa\t\tIris-setosa:    \tTrue\n",
      "Iris-setosa\t\tIris-setosa:    \tTrue\n",
      "Iris-virginica\t\tIris-virginica:    \tTrue\n",
      "Iris-setosa\t\tIris-setosa:    \tTrue\n",
      "Iris-virginica\t\tIris-virginica:    \tTrue\n",
      "Iris-virginica\t\tIris-virginica:    \tTrue\n",
      "Iris-versicolor\t\tIris-versicolor:    \tTrue\n",
      "Iris-versicolor\t\tIris-versicolor:    \tTrue\n",
      "Iris-virginica\t\tIris-virginica:    \tTrue\n",
      "Iris-versicolor\t\tIris-virginica:    \tFalse\n",
      "Iris-virginica\t\tIris-virginica:    \tTrue\n",
      "Iris-setosa\t\tIris-setosa:    \tTrue\n",
      "Iris-versicolor\t\tIris-versicolor:    \tTrue\n",
      "Iris-versicolor\t\tIris-versicolor:    \tTrue\n",
      "Iris-setosa\t\tIris-setosa:    \tTrue\n",
      "Iris-setosa\t\tIris-setosa:    \tTrue\n",
      "Iris-setosa\t\tIris-setosa:    \tTrue\n",
      "Iris-versicolor\t\tIris-versicolor:    \tTrue\n",
      "Iris-virginica\t\tIris-virginica:    \tTrue\n",
      "Iris-versicolor\t\tIris-versicolor:    \tTrue\n",
      "Iris-virginica\t\tIris-virginica:    \tTrue\n",
      "Iris-versicolor\t\tIris-versicolor:    \tTrue\n",
      "Resultado:  93.33333333333333 %\n",
      "==================\n",
      "0.9333333333333333\n"
     ]
    }
   ],
   "source": [
    "from sklearn.ensemble import RandomForestClassifier\n",
    "\n",
    "clf = RandomForestClassifier()\n",
    "clf.fit(X, y)\n",
    "\n",
    "preds = clf.predict(np.array(X_teste))\n",
    "for p, gt in zip(preds,y_teste):\n",
    "    print(f'{p}\\t\\t{gt}:    \\t{p==gt}')\n",
    "acertos = sum(preds == y_teste)\n",
    "print('Resultado: ',acertos/len(y_teste)*100,'%')\n",
    "print('==================')\n",
    "\n",
    "print(clf.score(X_teste, y_teste))"
   ]
  },
  {
   "cell_type": "code",
   "execution_count": null,
   "metadata": {},
   "outputs": [],
   "source": []
  }
 ],
 "metadata": {
  "kernelspec": {
   "display_name": "Python 3",
   "language": "python",
   "name": "python3"
  },
  "language_info": {
   "codemirror_mode": {
    "name": "ipython",
    "version": 3
   },
   "file_extension": ".py",
   "mimetype": "text/x-python",
   "name": "python",
   "nbconvert_exporter": "python",
   "pygments_lexer": "ipython3",
   "version": "3.8.8"
  }
 },
 "nbformat": 4,
 "nbformat_minor": 4
}
